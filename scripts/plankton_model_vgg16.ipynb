{
 "cells": [
  {
   "cell_type": "markdown",
   "metadata": {},
   "source": [
    "# National Data Science Bowl - Plankton\n",
    "\n",
    "I will finetune vgg16 on pictures of plankton to classify various species of plankton\n",
    "\n",
    "## Action Plan\n",
    "\n",
    "1. Finetune and Train model\n",
    "2. Generate predictions\n",
    "3. Validate predictions\n",
    "4. Submit predictions to Kaggle"
   ]
  },
  {
   "cell_type": "markdown",
   "metadata": {},
   "source": [
    "## Imports and directories"
   ]
  },
  {
   "cell_type": "code",
   "execution_count": 1,
   "metadata": {
    "collapsed": true
   },
   "outputs": [],
   "source": [
    "#Create references to important directories we will use over and over\n",
    "import os, sys\n",
    "current_dir = os.getcwd()\n",
    "SCRIPTS_HOME_DIR = current_dir\n",
    "DATA_HOME_DIR = current_dir+'/data'"
   ]
  },
  {
   "cell_type": "code",
   "execution_count": 2,
   "metadata": {
    "collapsed": false
   },
   "outputs": [
    {
     "name": "stderr",
     "output_type": "stream",
     "text": [
      "Using gpu device 0: GeForce GTX 1070 (CNMeM is enabled with initial size: 85.0% of memory, cuDNN 5105)\n",
      "/home/nathan/anaconda3/envs/deepLearning/lib/python3.5/site-packages/theano/sandbox/cuda/__init__.py:600: UserWarning: Your cuDNN version is more recent than the one Theano officially supports. If you see any problems, try updating Theano or downgrading cuDNN to version 5.\n",
      "  warnings.warn(warn)\n",
      "Using Theano backend.\n"
     ]
    }
   ],
   "source": [
    "#import modules\n",
    "from utils import *\n",
    "from vgg16 import Vgg16\n",
    "\n",
    "%matplotlib inline"
   ]
  },
  {
   "cell_type": "markdown",
   "metadata": {},
   "source": [
    "## Finetuning and Training"
   ]
  },
  {
   "cell_type": "markdown",
   "metadata": {},
   "source": [
    "Finetuning and training will allow us to take advantage of imagenet winning "
   ]
  },
  {
   "cell_type": "code",
   "execution_count": 3,
   "metadata": {
    "collapsed": false
   },
   "outputs": [
    {
     "name": "stdout",
     "output_type": "stream",
     "text": [
      "/home/nathan/git/planktonDataScienceBowl/scripts/data\n"
     ]
    }
   ],
   "source": [
    "%cd $DATA_HOME_DIR\n",
    "\n",
    "#Set path to sample/ path if desired\n",
    "path = DATA_HOME_DIR + '/' #'/sample/'\n",
    "test_path = DATA_HOME_DIR + '/test/' #We use all the test data\n",
    "results_path=DATA_HOME_DIR + '/results/'\n",
    "train_path=path + '/train/'\n",
    "valid_path=path + '/valid/'"
   ]
  },
  {
   "cell_type": "markdown",
   "metadata": {},
   "source": [
    "Make use of fast.ai's Vgg16 helper class. This will allow us to import the Vgg16 imagenet model for our use"
   ]
  },
  {
   "cell_type": "code",
   "execution_count": 4,
   "metadata": {
    "collapsed": false
   },
   "outputs": [],
   "source": [
    "#import Vgg16 helper class\n",
    "vgg = Vgg16()"
   ]
  },
  {
   "cell_type": "code",
   "execution_count": 5,
   "metadata": {
    "collapsed": true
   },
   "outputs": [],
   "source": [
    "#Set constants\n",
    "batch_size=128\n",
    "no_of_epochs=100"
   ]
  },
  {
   "cell_type": "markdown",
   "metadata": {},
   "source": [
    "The primary motive behind the image generator is the fact that pictures of plankton should be rotationally invariant. Random width and height shifts as well as random shear and zooms are applied to further augment the data to help with limited training data."
   ]
  },
  {
   "cell_type": "code",
   "execution_count": 6,
   "metadata": {
    "collapsed": true
   },
   "outputs": [],
   "source": [
    "image_generator = image.ImageDataGenerator(\n",
    "                rotation_range=360,\n",
    "                width_shift_range=0.02,\n",
    "                height_shift_range=0.02,\n",
    "                shear_range=0.05,\n",
    "                zoom_range=0.05)"
   ]
  },
  {
   "cell_type": "code",
   "execution_count": 7,
   "metadata": {
    "collapsed": false
   },
   "outputs": [
    {
     "name": "stdout",
     "output_type": "stream",
     "text": [
      "Found 27184 images belonging to 121 classes.\n",
      "Found 3152 images belonging to 121 classes.\n"
     ]
    }
   ],
   "source": [
    "#Finetune the model\n",
    "batches = vgg.get_batches(train_path, gen=image_generator, batch_size=batch_size)\n",
    "val_batches = vgg.get_batches(valid_path, batch_size=batch_size)\n",
    "vgg.finetune(batches)\n",
    "\n",
    "#Not sure if we set this for all fits\n",
    "vgg.model.optimizer.lr = 0.01"
   ]
  },
  {
   "cell_type": "code",
   "execution_count": 8,
   "metadata": {
    "collapsed": false
   },
   "outputs": [
    {
     "name": "stdout",
     "output_type": "stream",
     "text": [
      "Running epoch: 0\n",
      "Epoch 1/1\n",
      "27184/27184 [==============================] - 288s - loss: 11.1522 - acc: 0.2503 - val_loss: 11.3796 - val_acc: 0.2516\n",
      "Running epoch: 1\n",
      "Epoch 1/1\n",
      "27184/27184 [==============================] - 291s - loss: 11.0496 - acc: 0.2811 - val_loss: 11.3840 - val_acc: 0.2630\n",
      "Running epoch: 2\n",
      "Epoch 1/1\n",
      "27184/27184 [==============================] - 289s - loss: 11.0287 - acc: 0.2890 - val_loss: 11.0429 - val_acc: 0.2919\n",
      "Running epoch: 3\n",
      "Epoch 1/1\n",
      "27184/27184 [==============================] - 302s - loss: 11.0297 - acc: 0.2941 - val_loss: 11.2704 - val_acc: 0.2843\n",
      "Running epoch: 4\n",
      "Epoch 1/1\n",
      "27184/27184 [==============================] - 294s - loss: 11.0918 - acc: 0.2948 - val_loss: 11.3164 - val_acc: 0.2786\n",
      "Running epoch: 5\n",
      "Epoch 1/1\n",
      "27184/27184 [==============================] - 306s - loss: 11.1432 - acc: 0.2922 - val_loss: 11.4970 - val_acc: 0.2668\n",
      "Running epoch: 6\n",
      "Epoch 1/1\n",
      "27184/27184 [==============================] - 390s - loss: 11.0715 - acc: 0.2982 - val_loss: 11.6051 - val_acc: 0.2617\n",
      "Running epoch: 7\n",
      "Epoch 1/1\n",
      "27184/27184 [==============================] - 406s - loss: 11.1553 - acc: 0.2932 - val_loss: 11.0983 - val_acc: 0.2951\n",
      "Running epoch: 8\n",
      "Epoch 1/1\n",
      "27184/27184 [==============================] - 340s - loss: 11.0266 - acc: 0.3035 - val_loss: 11.3732 - val_acc: 0.2811\n",
      "Running epoch: 9\n",
      "Epoch 1/1\n",
      "27184/27184 [==============================] - 297s - loss: 11.0540 - acc: 0.3014 - val_loss: 11.3485 - val_acc: 0.2820\n",
      "Running epoch: 10\n",
      "Epoch 1/1\n",
      "27184/27184 [==============================] - 287s - loss: 11.0211 - acc: 0.3051 - val_loss: 11.3749 - val_acc: 0.2843\n",
      "Running epoch: 11\n",
      "Epoch 1/1\n",
      "27184/27184 [==============================] - 289s - loss: 11.0458 - acc: 0.3037 - val_loss: 11.5582 - val_acc: 0.2694\n",
      "Running epoch: 12\n",
      "Epoch 1/1\n",
      "27184/27184 [==============================] - 290s - loss: 11.0534 - acc: 0.3038 - val_loss: 11.3943 - val_acc: 0.2820\n",
      "Running epoch: 13\n",
      "Epoch 1/1\n",
      "27184/27184 [==============================] - 292s - loss: 11.1352 - acc: 0.2988 - val_loss: 11.2782 - val_acc: 0.2849\n",
      "Running epoch: 14\n",
      "Epoch 1/1\n",
      "27184/27184 [==============================] - 295s - loss: 10.9920 - acc: 0.3085 - val_loss: 11.3315 - val_acc: 0.2852\n",
      "Running epoch: 15\n",
      "Epoch 1/1\n",
      "27184/27184 [==============================] - 292s - loss: 11.1027 - acc: 0.3018 - val_loss: 11.1645 - val_acc: 0.2966\n",
      "Running epoch: 16\n",
      "Epoch 1/1\n",
      "27184/27184 [==============================] - 295s - loss: 10.9922 - acc: 0.3079 - val_loss: 11.3015 - val_acc: 0.2868\n",
      "Running epoch: 17\n",
      "Epoch 1/1\n",
      "27184/27184 [==============================] - 288s - loss: 11.1284 - acc: 0.3011 - val_loss: 11.2793 - val_acc: 0.2884\n",
      "Running epoch: 18\n",
      "Epoch 1/1\n",
      "27184/27184 [==============================] - 293s - loss: 11.0632 - acc: 0.3061 - val_loss: 11.4339 - val_acc: 0.2827\n",
      "Running epoch: 19\n",
      "Epoch 1/1\n",
      "27184/27184 [==============================] - 292s - loss: 10.9994 - acc: 0.3097 - val_loss: 11.4419 - val_acc: 0.2820\n",
      "Running epoch: 20\n",
      "Epoch 1/1\n",
      "27184/27184 [==============================] - 294s - loss: 11.0385 - acc: 0.3077 - val_loss: 11.1634 - val_acc: 0.2982\n",
      "Running epoch: 21\n",
      "Epoch 1/1\n",
      "27184/27184 [==============================] - 287s - loss: 11.0758 - acc: 0.3049 - val_loss: 11.2969 - val_acc: 0.2916\n",
      "Running epoch: 22\n",
      "Epoch 1/1\n",
      "27184/27184 [==============================] - 288s - loss: 11.0561 - acc: 0.3058 - val_loss: 11.5521 - val_acc: 0.2741\n",
      "Running epoch: 23\n",
      "Epoch 1/1\n",
      "27184/27184 [==============================] - 295s - loss: 11.0319 - acc: 0.3080 - val_loss: 11.2220 - val_acc: 0.2963\n",
      "Running epoch: 24\n",
      "Epoch 1/1\n",
      "27184/27184 [==============================] - 287s - loss: 10.9692 - acc: 0.3122 - val_loss: 11.4765 - val_acc: 0.2805\n",
      "Running epoch: 25\n",
      "Epoch 1/1\n",
      "27184/27184 [==============================] - 291s - loss: 11.0016 - acc: 0.3101 - val_loss: 11.4671 - val_acc: 0.2811\n",
      "Running epoch: 26\n",
      "Epoch 1/1\n",
      "27184/27184 [==============================] - 287s - loss: 11.0367 - acc: 0.3086 - val_loss: 11.5031 - val_acc: 0.2786\n",
      "Running epoch: 27\n",
      "Epoch 1/1\n",
      "27184/27184 [==============================] - 294s - loss: 11.0849 - acc: 0.3050 - val_loss: 11.3106 - val_acc: 0.2865\n",
      "Running epoch: 28\n",
      "Epoch 1/1\n",
      "27184/27184 [==============================] - 295s - loss: 11.0432 - acc: 0.3089 - val_loss: 11.3860 - val_acc: 0.2859\n",
      "Running epoch: 29\n",
      "Epoch 1/1\n",
      "27184/27184 [==============================] - 295s - loss: 10.9923 - acc: 0.3121 - val_loss: 11.4118 - val_acc: 0.2849\n",
      "Running epoch: 30\n",
      "Epoch 1/1\n",
      "27184/27184 [==============================] - 287s - loss: 11.0556 - acc: 0.3078 - val_loss: 11.9773 - val_acc: 0.2510\n",
      "Running epoch: 31\n",
      "Epoch 1/1\n",
      "27184/27184 [==============================] - 287s - loss: 10.9991 - acc: 0.3115 - val_loss: 11.3598 - val_acc: 0.2903\n",
      "Running epoch: 32\n",
      "Epoch 1/1\n",
      "27184/27184 [==============================] - 294s - loss: 11.0264 - acc: 0.3099 - val_loss: 11.3254 - val_acc: 0.2935\n",
      "Running epoch: 33\n",
      "Epoch 1/1\n",
      "27184/27184 [==============================] - 287s - loss: 11.0426 - acc: 0.3091 - val_loss: 11.4884 - val_acc: 0.2795\n",
      "Running epoch: 34\n",
      "Epoch 1/1\n",
      "27184/27184 [==============================] - 294s - loss: 11.0316 - acc: 0.3100 - val_loss: 11.3959 - val_acc: 0.2874\n",
      "Running epoch: 35\n",
      "Epoch 1/1\n",
      "27184/27184 [==============================] - 287s - loss: 10.9763 - acc: 0.3126 - val_loss: 11.2117 - val_acc: 0.3001\n",
      "Running epoch: 36\n",
      "Epoch 1/1\n",
      "27184/27184 [==============================] - 288s - loss: 11.0337 - acc: 0.3101 - val_loss: 11.4801 - val_acc: 0.2795\n",
      "Running epoch: 37\n",
      "Epoch 1/1\n",
      "27184/27184 [==============================] - 287s - loss: 11.0929 - acc: 0.3068 - val_loss: 11.5232 - val_acc: 0.2792\n",
      "Running epoch: 38\n",
      "Epoch 1/1\n",
      "27184/27184 [==============================] - 287s - loss: 11.0522 - acc: 0.3085 - val_loss: 11.3490 - val_acc: 0.2893\n",
      "Running epoch: 39\n",
      "Epoch 1/1\n",
      "27184/27184 [==============================] - 291s - loss: 11.0439 - acc: 0.3101 - val_loss: 11.5917 - val_acc: 0.2776\n",
      "Running epoch: 40\n",
      "Epoch 1/1\n",
      "27184/27184 [==============================] - 291s - loss: 11.0323 - acc: 0.3108 - val_loss: 11.1990 - val_acc: 0.2979\n",
      "Running epoch: 41\n",
      "Epoch 1/1\n",
      "27184/27184 [==============================] - 293s - loss: 10.9817 - acc: 0.3136 - val_loss: 11.1555 - val_acc: 0.3023\n",
      "Running epoch: 42\n",
      "Epoch 1/1\n",
      "27184/27184 [==============================] - 294s - loss: 11.0060 - acc: 0.3119 - val_loss: 11.1898 - val_acc: 0.2998\n",
      "Running epoch: 43\n",
      "Epoch 1/1\n",
      "27184/27184 [==============================] - 294s - loss: 11.0572 - acc: 0.3090 - val_loss: 11.1343 - val_acc: 0.3039\n",
      "Running epoch: 44\n",
      "Epoch 1/1\n",
      "27184/27184 [==============================] - 287s - loss: 10.9952 - acc: 0.3126 - val_loss: 11.3077 - val_acc: 0.2922\n",
      "Running epoch: 45\n",
      "Epoch 1/1\n",
      "27184/27184 [==============================] - 287s - loss: 11.0328 - acc: 0.3101 - val_loss: 11.4852 - val_acc: 0.2824\n",
      "Running epoch: 46\n",
      "Epoch 1/1\n",
      "27184/27184 [==============================] - 287s - loss: 10.9508 - acc: 0.3154 - val_loss: 11.1328 - val_acc: 0.3030\n",
      "Running epoch: 47\n",
      "Epoch 1/1\n",
      "27184/27184 [==============================] - 292s - loss: 11.0306 - acc: 0.3107 - val_loss: 11.2431 - val_acc: 0.2966\n",
      "Running epoch: 48\n",
      "Epoch 1/1\n",
      "27184/27184 [==============================] - 287s - loss: 11.0065 - acc: 0.3123 - val_loss: 11.4262 - val_acc: 0.2868\n",
      "Running epoch: 49\n",
      "Epoch 1/1\n",
      "27184/27184 [==============================] - 294s - loss: 11.0096 - acc: 0.3128 - val_loss: 11.5972 - val_acc: 0.2751\n",
      "Running epoch: 50\n",
      "Epoch 1/1\n",
      "27184/27184 [==============================] - 288s - loss: 11.0698 - acc: 0.3089 - val_loss: 11.2109 - val_acc: 0.2989\n",
      "Running epoch: 51\n",
      "Epoch 1/1\n",
      "27184/27184 [==============================] - 294s - loss: 10.9912 - acc: 0.3131 - val_loss: 11.1658 - val_acc: 0.3020\n",
      "Running epoch: 52\n",
      "Epoch 1/1\n",
      "27184/27184 [==============================] - 287s - loss: 11.0443 - acc: 0.3101 - val_loss: 11.4017 - val_acc: 0.2884\n",
      "Running epoch: 53\n",
      "Epoch 1/1\n",
      "27184/27184 [==============================] - 287s - loss: 10.9838 - acc: 0.3144 - val_loss: 11.1167 - val_acc: 0.3062\n",
      "Running epoch: 54\n",
      "Epoch 1/1\n",
      "27184/27184 [==============================] - 294s - loss: 10.9836 - acc: 0.3142 - val_loss: 11.3616 - val_acc: 0.2903\n",
      "Running epoch: 55\n",
      "Epoch 1/1\n",
      "27184/27184 [==============================] - 287s - loss: 11.0359 - acc: 0.3111 - val_loss: 11.4132 - val_acc: 0.2862\n",
      "Running epoch: 56\n",
      "Epoch 1/1\n",
      "27184/27184 [==============================] - 288s - loss: 11.0594 - acc: 0.3096 - val_loss: 11.5109 - val_acc: 0.2817\n",
      "Running epoch: 57\n",
      "Epoch 1/1\n",
      "27184/27184 [==============================] - 293s - loss: 10.9835 - acc: 0.3144 - val_loss: 11.2561 - val_acc: 0.2973\n",
      "Running epoch: 58\n",
      "Epoch 1/1\n",
      "27184/27184 [==============================] - 287s - loss: 10.9820 - acc: 0.3144 - val_loss: 11.1475 - val_acc: 0.3020\n",
      "Running epoch: 59\n",
      "Epoch 1/1\n",
      "27184/27184 [==============================] - 288s - loss: 10.9900 - acc: 0.3138 - val_loss: 11.5272 - val_acc: 0.2811\n",
      "Running epoch: 60\n",
      "Epoch 1/1\n",
      "27184/27184 [==============================] - 288s - loss: 11.0049 - acc: 0.3127 - val_loss: 11.2155 - val_acc: 0.3001\n",
      "Running epoch: 61\n",
      "Epoch 1/1\n",
      "27184/27184 [==============================] - 287s - loss: 10.9745 - acc: 0.3144 - val_loss: 11.0892 - val_acc: 0.3081\n",
      "Running epoch: 62\n",
      "Epoch 1/1\n",
      "27184/27184 [==============================] - 287s - loss: 11.1342 - acc: 0.3058 - val_loss: 11.4424 - val_acc: 0.2865\n",
      "Running epoch: 63\n",
      "Epoch 1/1\n",
      "27184/27184 [==============================] - 294s - loss: 10.9919 - acc: 0.3142 - val_loss: 11.3734 - val_acc: 0.2903\n",
      "Running epoch: 64\n",
      "Epoch 1/1\n",
      "27184/27184 [==============================] - 294s - loss: 11.0346 - acc: 0.3114 - val_loss: 11.2861 - val_acc: 0.2970\n",
      "Running epoch: 65\n",
      "Epoch 1/1\n",
      "27184/27184 [==============================] - 288s - loss: 11.0063 - acc: 0.3138 - val_loss: 11.3288 - val_acc: 0.2912\n",
      "Running epoch: 66\n",
      "Epoch 1/1\n",
      "27184/27184 [==============================] - 288s - loss: 11.0144 - acc: 0.3128 - val_loss: 11.1859 - val_acc: 0.3027\n",
      "Running epoch: 67\n",
      "Epoch 1/1\n",
      "27184/27184 [==============================] - 288s - loss: 10.9635 - acc: 0.3158 - val_loss: 11.4414 - val_acc: 0.2865\n",
      "Running epoch: 68\n",
      "Epoch 1/1\n",
      "27184/27184 [==============================] - 288s - loss: 11.0407 - acc: 0.3111 - val_loss: 11.2725 - val_acc: 0.2966\n",
      "Running epoch: 69\n",
      "Epoch 1/1\n",
      "27184/27184 [==============================] - 288s - loss: 11.0887 - acc: 0.3083 - val_loss: 11.3458 - val_acc: 0.2935\n",
      "Running epoch: 70\n",
      "Epoch 1/1\n",
      "27184/27184 [==============================] - 289s - loss: 10.9739 - acc: 0.3153 - val_loss: 11.2635 - val_acc: 0.2979\n",
      "Running epoch: 71\n",
      "Epoch 1/1\n",
      "27184/27184 [==============================] - 288s - loss: 10.9516 - acc: 0.3164 - val_loss: 11.3866 - val_acc: 0.2878\n",
      "Running epoch: 72\n",
      "Epoch 1/1\n",
      "27184/27184 [==============================] - 295s - loss: 11.0401 - acc: 0.3111 - val_loss: 11.2664 - val_acc: 0.2982\n",
      "Running epoch: 73\n",
      "Epoch 1/1\n",
      "27184/27184 [==============================] - 289s - loss: 10.9324 - acc: 0.3180 - val_loss: 11.5422 - val_acc: 0.2786\n",
      "Running epoch: 74\n",
      "Epoch 1/1\n",
      "27184/27184 [==============================] - 290s - loss: 10.9376 - acc: 0.3177 - val_loss: 11.3534 - val_acc: 0.2919\n",
      "Running epoch: 75\n",
      "Epoch 1/1\n",
      "27184/27184 [==============================] - 288s - loss: 11.0121 - acc: 0.3128 - val_loss: 11.1992 - val_acc: 0.2995\n",
      "Running epoch: 76\n",
      "Epoch 1/1\n",
      "27184/27184 [==============================] - 294s - loss: 10.9609 - acc: 0.3161 - val_loss: 11.3363 - val_acc: 0.2935\n",
      "Running epoch: 77\n",
      "Epoch 1/1\n",
      "27184/27184 [==============================] - 294s - loss: 10.9178 - acc: 0.3191 - val_loss: 10.9981 - val_acc: 0.3135\n",
      "Running epoch: 78\n",
      "Epoch 1/1\n",
      "27184/27184 [==============================] - 293s - loss: 10.9938 - acc: 0.3147 - val_loss: 11.3608 - val_acc: 0.2909\n",
      "Running epoch: 79\n",
      "Epoch 1/1\n",
      "27184/27184 [==============================] - 287s - loss: 10.9464 - acc: 0.3171 - val_loss: 11.2838 - val_acc: 0.2966\n",
      "Running epoch: 80\n",
      "Epoch 1/1\n",
      "27184/27184 [==============================] - 289s - loss: 10.9279 - acc: 0.3183 - val_loss: 11.2382 - val_acc: 0.2992\n",
      "Running epoch: 81\n",
      "Epoch 1/1\n",
      "27184/27184 [==============================] - 288s - loss: 10.9145 - acc: 0.3190 - val_loss: 11.1494 - val_acc: 0.3030\n",
      "Running epoch: 82\n",
      "Epoch 1/1\n",
      "27184/27184 [==============================] - 288s - loss: 10.8917 - acc: 0.3209 - val_loss: 11.1746 - val_acc: 0.3046\n",
      "Running epoch: 83\n",
      "Epoch 1/1\n",
      "27184/27184 [==============================] - 294s - loss: 10.9661 - acc: 0.3161 - val_loss: 11.0975 - val_acc: 0.3058\n",
      "Running epoch: 84\n",
      "Epoch 1/1\n",
      "27184/27184 [==============================] - 288s - loss: 10.8988 - acc: 0.3202 - val_loss: 11.4405 - val_acc: 0.2865\n",
      "Running epoch: 85\n",
      "Epoch 1/1\n",
      "27184/27184 [==============================] - 293s - loss: 10.9517 - acc: 0.3169 - val_loss: 11.3482 - val_acc: 0.2928\n",
      "Running epoch: 86\n",
      "Epoch 1/1\n",
      "27184/27184 [==============================] - 295s - loss: 10.9020 - acc: 0.3200 - val_loss: 11.2339 - val_acc: 0.2992\n",
      "Running epoch: 87\n",
      "Epoch 1/1\n",
      "27184/27184 [==============================] - 295s - loss: 10.8532 - acc: 0.3236 - val_loss: 11.3492 - val_acc: 0.2925\n",
      "Running epoch: 88\n",
      "Epoch 1/1\n",
      "27184/27184 [==============================] - 294s - loss: 10.8759 - acc: 0.3217 - val_loss: 11.1838 - val_acc: 0.3020\n",
      "Running epoch: 89\n",
      "Epoch 1/1\n",
      "27184/27184 [==============================] - 295s - loss: 10.8555 - acc: 0.3230 - val_loss: 11.5408 - val_acc: 0.2792\n",
      "Running epoch: 90\n",
      "Epoch 1/1\n",
      "27184/27184 [==============================] - 289s - loss: 10.9343 - acc: 0.3182 - val_loss: 11.0333 - val_acc: 0.3109\n",
      "Running epoch: 91\n",
      "Epoch 1/1\n",
      "27184/27184 [==============================] - 295s - loss: 10.8383 - acc: 0.3233 - val_loss: 11.1384 - val_acc: 0.3036\n",
      "Running epoch: 92\n",
      "Epoch 1/1\n",
      "27184/27184 [==============================] - 296s - loss: 11.0087 - acc: 0.3132 - val_loss: 11.5693 - val_acc: 0.2786\n",
      "Running epoch: 93\n",
      "Epoch 1/1\n",
      "27184/27184 [==============================] - 288s - loss: 10.9663 - acc: 0.3164 - val_loss: 11.1372 - val_acc: 0.3023\n",
      "Running epoch: 94\n",
      "Epoch 1/1\n",
      "27184/27184 [==============================] - 294s - loss: 10.9310 - acc: 0.3181 - val_loss: 11.1534 - val_acc: 0.3049\n",
      "Running epoch: 95\n",
      "Epoch 1/1\n",
      "27184/27184 [==============================] - 293s - loss: 10.8525 - acc: 0.3232 - val_loss: 11.4612 - val_acc: 0.2843\n",
      "Running epoch: 96\n",
      "Epoch 1/1\n",
      "27184/27184 [==============================] - 288s - loss: 10.9894 - acc: 0.3152 - val_loss: 11.3096 - val_acc: 0.2960\n",
      "Running epoch: 97\n",
      "Epoch 1/1\n",
      "27184/27184 [==============================] - 288s - loss: 10.9608 - acc: 0.3170 - val_loss: 11.3730 - val_acc: 0.2900\n",
      "Running epoch: 98\n",
      "Epoch 1/1\n",
      "27184/27184 [==============================] - 293s - loss: 10.8506 - acc: 0.3239 - val_loss: 11.3969 - val_acc: 0.2881\n",
      "Running epoch: 99\n",
      "Epoch 1/1\n",
      "27184/27184 [==============================] - 295s - loss: 10.9096 - acc: 0.3198 - val_loss: 11.2990 - val_acc: 0.2938\n",
      "Completed 100 fit operations\n"
     ]
    }
   ],
   "source": [
    "#Notice we are passing in the validation dataset to the fit() method\n",
    "#For each epoch we test our model against the validation set\n",
    "latest_weights_filename = None\n",
    "for epoch in range(no_of_epochs):\n",
    "    print (\"Running epoch: %d\" % epoch)\n",
    "    vgg.fit(batches, val_batches, nb_epoch=1)\n",
    "    latest_weights_filename = 'genWeights.h5'\n",
    "#     latest_weights_filename = 'ft%d.h5' % epoch\n",
    "    vgg.model.save_weights(results_path+latest_weights_filename)\n",
    "print (\"Completed %s fit operations\" % no_of_epochs)"
   ]
  },
  {
   "cell_type": "markdown",
   "metadata": {},
   "source": [
    "# Generate predictions\n",
    "\n",
    "Next we will generate predictions of the kaggle test set."
   ]
  },
  {
   "cell_type": "code",
   "execution_count": 13,
   "metadata": {
    "collapsed": false
   },
   "outputs": [
    {
     "data": {
      "text/plain": [
       "'/home/nathan/git/planktonDataScienceBowl/scripts/data/test/'"
      ]
     },
     "execution_count": 13,
     "metadata": {},
     "output_type": "execute_result"
    }
   ],
   "source": [
    "test_path"
   ]
  },
  {
   "cell_type": "code",
   "execution_count": 14,
   "metadata": {
    "collapsed": false
   },
   "outputs": [
    {
     "name": "stdout",
     "output_type": "stream",
     "text": [
      "Found 130400 images belonging to 1 classes.\n"
     ]
    }
   ],
   "source": [
    "batches, preds = vgg.test(test_path, batch_size = batch_size)"
   ]
  },
  {
   "cell_type": "code",
   "execution_count": 15,
   "metadata": {
    "collapsed": false
   },
   "outputs": [
    {
     "name": "stdout",
     "output_type": "stream",
     "text": [
      "[[  2.0179e-24   0.0000e+00   0.0000e+00   0.0000e+00   0.0000e+00   7.8851e-26   1.1857e-36\n",
      "    0.0000e+00   3.0076e-27   0.0000e+00   0.0000e+00   4.3020e-15   1.1372e-28   0.0000e+00\n",
      "    2.3891e-07   0.0000e+00   0.0000e+00   0.0000e+00   0.0000e+00   1.4251e-42   0.0000e+00\n",
      "    1.3664e-41   2.8026e-45   0.0000e+00   0.0000e+00   3.8167e-10   0.0000e+00   5.6725e-36\n",
      "    0.0000e+00   0.0000e+00   0.0000e+00   0.0000e+00   0.0000e+00   1.0126e-37   2.7086e-24\n",
      "    1.0000e+00   6.7563e-33   1.3507e-34   0.0000e+00   0.0000e+00   0.0000e+00   0.0000e+00\n",
      "    1.7614e-42   4.6812e-25   3.5929e-42   0.0000e+00   0.0000e+00   8.5251e-31   0.0000e+00\n",
      "    1.4714e-43   0.0000e+00   0.0000e+00   4.0638e-44   0.0000e+00   0.0000e+00   0.0000e+00\n",
      "    0.0000e+00   0.0000e+00   0.0000e+00   0.0000e+00   0.0000e+00   0.0000e+00   0.0000e+00\n",
      "    0.0000e+00   0.0000e+00   0.0000e+00   0.0000e+00   0.0000e+00   0.0000e+00   0.0000e+00\n",
      "    0.0000e+00   0.0000e+00   3.7706e-25   0.0000e+00   0.0000e+00   0.0000e+00   0.0000e+00\n",
      "    0.0000e+00   0.0000e+00   0.0000e+00   0.0000e+00   0.0000e+00   0.0000e+00   0.0000e+00\n",
      "    0.0000e+00   6.1704e-15   0.0000e+00   0.0000e+00   0.0000e+00   0.0000e+00   0.0000e+00\n",
      "    0.0000e+00   0.0000e+00   5.0166e-43   0.0000e+00   0.0000e+00   5.2076e-39   0.0000e+00\n",
      "    1.5414e-44   0.0000e+00   0.0000e+00   1.2472e-43   0.0000e+00   0.0000e+00   0.0000e+00\n",
      "    0.0000e+00   0.0000e+00   0.0000e+00   1.2786e-40   0.0000e+00   1.3137e-15   0.0000e+00\n",
      "    0.0000e+00   0.0000e+00   0.0000e+00   0.0000e+00   0.0000e+00   0.0000e+00   2.2729e-42\n",
      "    0.0000e+00   2.2283e-39]\n",
      " [  6.0818e-38   0.0000e+00   0.0000e+00   0.0000e+00   0.0000e+00   5.3919e-33   2.2867e-35\n",
      "    0.0000e+00   1.6925e-41   0.0000e+00   0.0000e+00   8.0482e-03   1.0324e-23   0.0000e+00\n",
      "    1.2989e-20   0.0000e+00   0.0000e+00   0.0000e+00   0.0000e+00   0.0000e+00   0.0000e+00\n",
      "    0.0000e+00   0.0000e+00   0.0000e+00   0.0000e+00   4.3778e-16   0.0000e+00   6.0958e-41\n",
      "    0.0000e+00   0.0000e+00   0.0000e+00   0.0000e+00   0.0000e+00   2.7265e-40   9.9570e-28\n",
      "    1.3423e-10   4.5114e-40   5.0525e-36   0.0000e+00   0.0000e+00   0.0000e+00   0.0000e+00\n",
      "    0.0000e+00   3.3185e-24   2.8026e-45   0.0000e+00   0.0000e+00   1.8694e-35   0.0000e+00\n",
      "    0.0000e+00   0.0000e+00   0.0000e+00   0.0000e+00   0.0000e+00   0.0000e+00   0.0000e+00\n",
      "    0.0000e+00   0.0000e+00   0.0000e+00   0.0000e+00   0.0000e+00   0.0000e+00   0.0000e+00\n",
      "    0.0000e+00   0.0000e+00   0.0000e+00   0.0000e+00   0.0000e+00   0.0000e+00   0.0000e+00\n",
      "    0.0000e+00   0.0000e+00   1.9051e-30   0.0000e+00   0.0000e+00   0.0000e+00   0.0000e+00\n",
      "    0.0000e+00   0.0000e+00   0.0000e+00   0.0000e+00   0.0000e+00   0.0000e+00   0.0000e+00\n",
      "    0.0000e+00   9.9195e-01   0.0000e+00   0.0000e+00   0.0000e+00   0.0000e+00   0.0000e+00\n",
      "    0.0000e+00   0.0000e+00   0.0000e+00   0.0000e+00   0.0000e+00   1.7056e-29   0.0000e+00\n",
      "    0.0000e+00   0.0000e+00   0.0000e+00   2.7598e-30   0.0000e+00   0.0000e+00   0.0000e+00\n",
      "    0.0000e+00   0.0000e+00   0.0000e+00   0.0000e+00   0.0000e+00   3.1850e-22   0.0000e+00\n",
      "    0.0000e+00   0.0000e+00   0.0000e+00   0.0000e+00   0.0000e+00   0.0000e+00   0.0000e+00\n",
      "    0.0000e+00   2.2701e-43]\n",
      " [  1.3032e-43   0.0000e+00   0.0000e+00   0.0000e+00   0.0000e+00   0.0000e+00   0.0000e+00\n",
      "    0.0000e+00   0.0000e+00   0.0000e+00   0.0000e+00   1.0000e+00   8.1898e-24   0.0000e+00\n",
      "    1.5704e-36   0.0000e+00   0.0000e+00   0.0000e+00   0.0000e+00   0.0000e+00   0.0000e+00\n",
      "    0.0000e+00   0.0000e+00   0.0000e+00   0.0000e+00   3.4192e-32   0.0000e+00   0.0000e+00\n",
      "    0.0000e+00   0.0000e+00   0.0000e+00   0.0000e+00   0.0000e+00   0.0000e+00   1.2191e-43\n",
      "    6.2324e-31   2.6162e-33   0.0000e+00   0.0000e+00   0.0000e+00   0.0000e+00   0.0000e+00\n",
      "    0.0000e+00   8.7581e-43   0.0000e+00   0.0000e+00   0.0000e+00   0.0000e+00   0.0000e+00\n",
      "    0.0000e+00   0.0000e+00   0.0000e+00   0.0000e+00   0.0000e+00   0.0000e+00   0.0000e+00\n",
      "    0.0000e+00   0.0000e+00   0.0000e+00   0.0000e+00   0.0000e+00   0.0000e+00   0.0000e+00\n",
      "    0.0000e+00   0.0000e+00   0.0000e+00   0.0000e+00   0.0000e+00   0.0000e+00   0.0000e+00\n",
      "    0.0000e+00   0.0000e+00   4.8345e-43   0.0000e+00   0.0000e+00   0.0000e+00   0.0000e+00\n",
      "    0.0000e+00   0.0000e+00   0.0000e+00   0.0000e+00   0.0000e+00   0.0000e+00   0.0000e+00\n",
      "    0.0000e+00   2.6716e-40   0.0000e+00   0.0000e+00   0.0000e+00   0.0000e+00   0.0000e+00\n",
      "    0.0000e+00   0.0000e+00   0.0000e+00   0.0000e+00   0.0000e+00   0.0000e+00   0.0000e+00\n",
      "    0.0000e+00   0.0000e+00   0.0000e+00   2.4383e-43   0.0000e+00   0.0000e+00   0.0000e+00\n",
      "    0.0000e+00   0.0000e+00   0.0000e+00   0.0000e+00   0.0000e+00   0.0000e+00   0.0000e+00\n",
      "    0.0000e+00   0.0000e+00   0.0000e+00   0.0000e+00   0.0000e+00   0.0000e+00   0.0000e+00\n",
      "    0.0000e+00   0.0000e+00]\n",
      " [  0.0000e+00   0.0000e+00   0.0000e+00   0.0000e+00   0.0000e+00   4.6243e-44   1.0344e-41\n",
      "    0.0000e+00   0.0000e+00   0.0000e+00   0.0000e+00   6.1014e-34   2.4972e-37   0.0000e+00\n",
      "    2.5156e-41   0.0000e+00   0.0000e+00   0.0000e+00   0.0000e+00   0.0000e+00   0.0000e+00\n",
      "    0.0000e+00   0.0000e+00   0.0000e+00   0.0000e+00   0.0000e+00   0.0000e+00   0.0000e+00\n",
      "    0.0000e+00   0.0000e+00   0.0000e+00   0.0000e+00   0.0000e+00   0.0000e+00   1.0510e-43\n",
      "    6.2844e-13   0.0000e+00   0.0000e+00   0.0000e+00   0.0000e+00   0.0000e+00   0.0000e+00\n",
      "    0.0000e+00   1.4013e-45   0.0000e+00   0.0000e+00   0.0000e+00   0.0000e+00   0.0000e+00\n",
      "    0.0000e+00   0.0000e+00   0.0000e+00   0.0000e+00   0.0000e+00   0.0000e+00   0.0000e+00\n",
      "    0.0000e+00   0.0000e+00   0.0000e+00   0.0000e+00   0.0000e+00   0.0000e+00   0.0000e+00\n",
      "    0.0000e+00   0.0000e+00   0.0000e+00   0.0000e+00   0.0000e+00   0.0000e+00   0.0000e+00\n",
      "    0.0000e+00   0.0000e+00   1.4013e-45   0.0000e+00   0.0000e+00   0.0000e+00   0.0000e+00\n",
      "    0.0000e+00   0.0000e+00   0.0000e+00   0.0000e+00   0.0000e+00   0.0000e+00   0.0000e+00\n",
      "    0.0000e+00   1.0000e+00   0.0000e+00   0.0000e+00   0.0000e+00   0.0000e+00   0.0000e+00\n",
      "    0.0000e+00   0.0000e+00   0.0000e+00   0.0000e+00   0.0000e+00   0.0000e+00   0.0000e+00\n",
      "    0.0000e+00   0.0000e+00   0.0000e+00   1.4013e-45   0.0000e+00   0.0000e+00   0.0000e+00\n",
      "    0.0000e+00   0.0000e+00   0.0000e+00   0.0000e+00   0.0000e+00   3.9501e-37   0.0000e+00\n",
      "    0.0000e+00   0.0000e+00   0.0000e+00   0.0000e+00   0.0000e+00   0.0000e+00   0.0000e+00\n",
      "    0.0000e+00   0.0000e+00]\n",
      " [  0.0000e+00   0.0000e+00   0.0000e+00   0.0000e+00   0.0000e+00   0.0000e+00   0.0000e+00\n",
      "    0.0000e+00   0.0000e+00   0.0000e+00   0.0000e+00   3.4142e-19   1.0000e+00   0.0000e+00\n",
      "    1.2092e-34   0.0000e+00   0.0000e+00   0.0000e+00   0.0000e+00   0.0000e+00   0.0000e+00\n",
      "    0.0000e+00   0.0000e+00   0.0000e+00   0.0000e+00   0.0000e+00   0.0000e+00   4.2312e-40\n",
      "    0.0000e+00   0.0000e+00   0.0000e+00   0.0000e+00   0.0000e+00   0.0000e+00   8.9389e-42\n",
      "    5.6690e-34   3.4136e-42   4.2039e-45   0.0000e+00   0.0000e+00   0.0000e+00   0.0000e+00\n",
      "    0.0000e+00   0.0000e+00   0.0000e+00   0.0000e+00   0.0000e+00   0.0000e+00   0.0000e+00\n",
      "    0.0000e+00   0.0000e+00   0.0000e+00   0.0000e+00   0.0000e+00   0.0000e+00   0.0000e+00\n",
      "    0.0000e+00   0.0000e+00   0.0000e+00   0.0000e+00   0.0000e+00   0.0000e+00   0.0000e+00\n",
      "    0.0000e+00   0.0000e+00   0.0000e+00   0.0000e+00   0.0000e+00   0.0000e+00   0.0000e+00\n",
      "    0.0000e+00   0.0000e+00   5.1981e-25   0.0000e+00   0.0000e+00   0.0000e+00   0.0000e+00\n",
      "    0.0000e+00   0.0000e+00   0.0000e+00   0.0000e+00   0.0000e+00   0.0000e+00   0.0000e+00\n",
      "    0.0000e+00   0.0000e+00   0.0000e+00   0.0000e+00   0.0000e+00   0.0000e+00   0.0000e+00\n",
      "    0.0000e+00   0.0000e+00   0.0000e+00   0.0000e+00   0.0000e+00   3.2835e-32   0.0000e+00\n",
      "    0.0000e+00   0.0000e+00   0.0000e+00   0.0000e+00   0.0000e+00   0.0000e+00   0.0000e+00\n",
      "    0.0000e+00   0.0000e+00   0.0000e+00   0.0000e+00   0.0000e+00   2.5193e-40   0.0000e+00\n",
      "    0.0000e+00   0.0000e+00   0.0000e+00   0.0000e+00   0.0000e+00   0.0000e+00   0.0000e+00\n",
      "    0.0000e+00   0.0000e+00]]\n",
      "['unknown/70329.jpg', 'unknown/133758.jpg', 'unknown/10047.jpg', 'unknown/9661.jpg', 'unknown/99087.jpg']\n"
     ]
    }
   ],
   "source": [
    "print (preds[:5])\n",
    "\n",
    "filenames = batches.filenames\n",
    "print (filenames[:5])"
   ]
  },
  {
   "cell_type": "code",
   "execution_count": 16,
   "metadata": {
    "collapsed": false
   },
   "outputs": [
    {
     "data": {
      "image/png": "[encoded data removed]",
      "text/plain": [
       "<PIL.JpegImagePlugin.JpegImageFile image mode=L size=113x44 at 0x7F02D7B50748>"
      ]
     },
     "execution_count": 16,
     "metadata": {},
     "output_type": "execute_result"
    }
   ],
   "source": [
    "#You can verify the column ordering by viewing some images\n",
    "from PIL import Image\n",
    "Image.open(test_path + filenames[2])"
   ]
  },
  {
   "cell_type": "code",
   "execution_count": 17,
   "metadata": {
    "collapsed": true
   },
   "outputs": [],
   "source": [
    "#Save our test results arrays so we can use them again later\n",
    "save_array(results_path + 'test_preds.dat', preds)\n",
    "save_array(results_path + 'filenames.dat', filenames)"
   ]
  },
  {
   "cell_type": "markdown",
   "metadata": {},
   "source": [
    "## Validate Predictions"
   ]
  },
  {
   "cell_type": "markdown",
   "metadata": {},
   "source": [
    "Keras' *fit()* function conveniently shows us the value of the loss function, and the accuracy, after every epoch (\"*epoch*\" refers to one full run through all training examples). The most important metrics for us to look at are for the validation set, since we want to check for over-fitting. \n",
    "\n",
    "- **Tip**: with our first model we should try to overfit before we start worrying about how to reduce over-fitting - there's no point even thinking about regularization, data augmentation, etc if you're still under-fitting! (We'll be looking at these techniques shortly).\n",
    "\n",
    "As well as looking at the overall metrics, it's also a good idea to look at examples of each of:\n",
    "1. A few correct labels at random\n",
    "2. A few incorrect labels at random\n",
    "3. The most correct labels of each class (ie those with highest probability that are correct)\n",
    "4. The most incorrect labels of each class (ie those with highest probability that are incorrect)\n",
    "5. The most uncertain labels (ie those with probability closest to 0.5)."
   ]
  },
  {
   "cell_type": "markdown",
   "metadata": {},
   "source": [
    "Let's see what we can learn from these examples. (In general, this is a particularly useful technique for debugging problems in the model. However, since this model is so simple, there may not be too much to learn at this stage.)\n",
    "\n",
    "Calculate predictions on validation set, so we can find correct and incorrect examples:"
   ]
  },
  {
   "cell_type": "code",
   "execution_count": 18,
   "metadata": {
    "collapsed": true
   },
   "outputs": [],
   "source": [
    "vgg.model.load_weights(results_path+latest_weights_filename)"
   ]
  },
  {
   "cell_type": "code",
   "execution_count": 19,
   "metadata": {
    "collapsed": false
   },
   "outputs": [
    {
     "name": "stdout",
     "output_type": "stream",
     "text": [
      "Found 3152 images belonging to 121 classes.\n"
     ]
    }
   ],
   "source": [
    "val_batches, probs = vgg.test(valid_path, batch_size = batch_size)"
   ]
  },
  {
   "cell_type": "code",
   "execution_count": 20,
   "metadata": {
    "collapsed": true
   },
   "outputs": [],
   "source": [
    "filenames = val_batches.filenames\n",
    "expected_labels = val_batches.classes #0 or 1\n",
    "\n",
    "#Round our predictions to 0/1 to generate labels\n",
    "our_predictions = probs[:,0]\n",
    "our_labels = np.round(1-our_predictions)"
   ]
  },
  {
   "cell_type": "code",
   "execution_count": 21,
   "metadata": {
    "collapsed": true
   },
   "outputs": [],
   "source": [
    "from keras.preprocessing import image\n",
    "\n",
    "#Helper function to plot images by index in the validation set \n",
    "#Plots is a helper function in utils.py\n",
    "def plots_idx(idx, titles=None):\n",
    "    plots([image.load_img(valid_path + filenames[i]) for i in idx], titles=titles)\n",
    "    \n",
    "#Number of images to view for each visualization task\n",
    "n_view = 4"
   ]
  },
  {
   "cell_type": "code",
   "execution_count": 22,
   "metadata": {
    "collapsed": false
   },
   "outputs": [
    {
     "name": "stdout",
     "output_type": "stream",
     "text": [
      "Found 72 correct labels\n"
     ]
    },
    {
     "data": {
      "image/png": "[encoded data removed]",
      "text/plain": [
       "<matplotlib.figure.Figure at 0x7f02d7b50c18>"
      ]
     },
     "metadata": {},
     "output_type": "display_data"
    }
   ],
   "source": [
    "#1. A few correct labels at random\n",
    "correct = np.where(our_labels==expected_labels)[0]\n",
    "print (\"Found %d correct labels\" % len(correct))\n",
    "idx = permutation(correct)[:n_view]\n",
    "plots_idx(idx, our_predictions[idx])"
   ]
  },
  {
   "cell_type": "code",
   "execution_count": 23,
   "metadata": {
    "collapsed": false
   },
   "outputs": [
    {
     "name": "stdout",
     "output_type": "stream",
     "text": [
      "Found 3080 incorrect labels\n"
     ]
    },
    {
     "data": {
      "image/png": "[encoded data removed]",
      "text/plain": [
       "<matplotlib.figure.Figure at 0x7f02dc37ef60>"
      ]
     },
     "metadata": {},
     "output_type": "display_data"
    }
   ],
   "source": [
    "#2. A few incorrect labels at random\n",
    "incorrect = np.where(our_labels!=expected_labels)[0]\n",
    "print (\"Found %d incorrect labels\" % len(incorrect))\n",
    "idx = permutation(incorrect)[:n_view]\n",
    "plots_idx(idx, our_predictions[idx])"
   ]
  },
  {
   "cell_type": "code",
   "execution_count": null,
   "metadata": {
    "collapsed": false
   },
   "outputs": [],
   "source": [
    "#3a. The images we most confident were cats, and are actually cats\n",
    "correct_cats = np.where((our_labels==0) & (our_labels==expected_labels))[0]\n",
    "print (\"Found %d confident correct cats labels\" % len(correct_cats))\n",
    "most_correct_cats = np.argsort(our_predictions[correct_cats])[::-1][:n_view]\n",
    "plots_idx(correct_cats[most_correct_cats], our_predictions[correct_cats][most_correct_cats])"
   ]
  },
  {
   "cell_type": "code",
   "execution_count": null,
   "metadata": {
    "collapsed": false
   },
   "outputs": [],
   "source": [
    "#3b. The images we most confident were dogs, and are actually dogs\n",
    "correct_dogs = np.where((our_labels==1) & (our_labels==expected_labels))[0]\n",
    "print (\"Found %d confident correct dogs labels\" % len(correct_dogs))\n",
    "most_correct_dogs = np.argsort(our_predictions[correct_dogs])[:n_view]\n",
    "plots_idx(correct_dogs[most_correct_dogs], our_predictions[correct_dogs][most_correct_dogs])"
   ]
  },
  {
   "cell_type": "code",
   "execution_count": null,
   "metadata": {
    "collapsed": false
   },
   "outputs": [],
   "source": [
    "#4a. The images we were most confident were cats, but are actually dogs\n",
    "incorrect_cats = np.where((our_labels==0) & (our_labels!=expected_labels))[0]\n",
    "print (\"Found %d incorrect cats\" % len(incorrect_cats))\n",
    "if len(incorrect_cats):\n",
    "    most_incorrect_cats = np.argsort(our_predictions[incorrect_cats])[::-1][:n_view]\n",
    "    plots_idx(incorrect_cats[most_incorrect_cats], our_predictions[incorrect_cats][most_incorrect_cats])"
   ]
  },
  {
   "cell_type": "code",
   "execution_count": null,
   "metadata": {
    "collapsed": false
   },
   "outputs": [],
   "source": [
    "#4b. The images we were most confident were dogs, but are actually cats\n",
    "incorrect_dogs = np.where((our_labels==1) & (our_labels!=expected_labels))[0]\n",
    "print (\"Found %d incorrect dogs\" % len(incorrect_dogs))\n",
    "if len(incorrect_dogs):\n",
    "    most_incorrect_dogs = np.argsort(our_predictions[incorrect_dogs])[:n_view]\n",
    "    plots_idx(incorrect_dogs[most_incorrect_dogs], our_predictions[incorrect_dogs][most_incorrect_dogs])"
   ]
  },
  {
   "cell_type": "code",
   "execution_count": null,
   "metadata": {
    "collapsed": false
   },
   "outputs": [],
   "source": [
    "#5. The most uncertain labels (ie those with probability closest to 0.5).\n",
    "most_uncertain = np.argsort(np.abs(our_predictions-0.5))\n",
    "plots_idx(most_uncertain[:n_view], our_predictions[most_uncertain])"
   ]
  },
  {
   "cell_type": "markdown",
   "metadata": {},
   "source": [
    "Perhaps the most common way to analyze the result of a classification model is to use a [confusion matrix](http://www.dataschool.io/simple-guide-to-confusion-matrix-terminology/). Scikit-learn has a convenient function we can use for this purpose:"
   ]
  },
  {
   "cell_type": "code",
   "execution_count": 24,
   "metadata": {
    "collapsed": true
   },
   "outputs": [],
   "source": [
    "from sklearn.metrics import confusion_matrix\n",
    "cm = confusion_matrix(expected_labels, our_labels)"
   ]
  },
  {
   "cell_type": "code",
   "execution_count": 25,
   "metadata": {
    "collapsed": false
   },
   "outputs": [
    {
     "name": "stdout",
     "output_type": "stream",
     "text": [
      "[[70 20  0 ...,  0  0  0]\n",
      " [ 0  2  0 ...,  0  0  0]\n",
      " [ 1  7  0 ...,  0  0  0]\n",
      " ..., \n",
      " [ 0 33  0 ...,  0  0  0]\n",
      " [ 0 18  0 ...,  0  0  0]\n",
      " [ 3 41  0 ...,  0  0  0]]\n"
     ]
    },
    {
     "data": {
      "image/png": "[encoded data removed]",
      "text/plain": [
       "<matplotlib.figure.Figure at 0x7f02d5d4acf8>"
      ]
     },
     "metadata": {},
     "output_type": "display_data"
    }
   ],
   "source": [
    "plot_confusion_matrix(cm, val_batches.class_indices)"
   ]
  },
  {
   "cell_type": "markdown",
   "metadata": {},
   "source": [
    "## Submit Predictions to Kaggle!"
   ]
  },
  {
   "cell_type": "markdown",
   "metadata": {},
   "source": [
    "Here's the format Kaggle requires for new submissions:\n",
    "```\n",
    "imageId,isDog\n",
    "1242, .3984\n",
    "3947, .1000\n",
    "4539, .9082\n",
    "2345, .0000\n",
    "```\n",
    "\n",
    "Kaggle wants the imageId followed by the probability of the image being a dog. Kaggle uses a metric called [Log Loss](http://wiki.fast.ai/index.php/Log_Loss) to evaluate your submission."
   ]
  },
  {
   "cell_type": "code",
   "execution_count": null,
   "metadata": {
    "collapsed": true
   },
   "outputs": [],
   "source": [
    "#Load our test predictions from file\n",
    "preds = load_array(results_path + 'test_preds.dat')\n",
    "filenames = load_array(results_path + 'filenames.dat')"
   ]
  },
  {
   "cell_type": "code",
   "execution_count": null,
   "metadata": {
    "collapsed": false
   },
   "outputs": [],
   "source": [
    "#Grab the dog prediction column\n",
    "isdog = preds[:,1]\n",
    "print (\"Raw Predictions: \" + str(isdog[:5]))\n",
    "print (\"Mid Predictions: \" + str(isdog[(isdog < .6) & (isdog > .4)]))\n",
    "print (\"Edge Predictions: \" + str(isdog[(isdog == 1) | (isdog == 0)]))"
   ]
  },
  {
   "cell_type": "markdown",
   "metadata": {},
   "source": [
    "[Log Loss](http://wiki.fast.ai/index.php/Log_Loss) doesn't support probability values of 0 or 1--they are undefined (and we have many). Fortunately, Kaggle helps us by offsetting our 0s and 1s by a very small value. So if we upload our submission now we will have lots of .99999999 and .000000001 values. This seems good, right?\n",
    "\n",
    "Not so. There is an additional twist due to how log loss is calculated--log loss rewards predictions that are confident and correct (p=.9999,label=1), but it punishes predictions that are confident and wrong far more (p=.0001,label=1). See visualization below."
   ]
  },
  {
   "cell_type": "code",
   "execution_count": null,
   "metadata": {
    "collapsed": false
   },
   "outputs": [],
   "source": [
    "#Visualize Log Loss when True value = 1\n",
    "#y-axis is log loss, x-axis is probabilty that label = 1\n",
    "#As you can see Log Loss increases rapidly as we approach 0\n",
    "#But increases slowly as our predicted probability gets closer to 1\n",
    "import matplotlib.pyplot as plt\n",
    "import numpy as np\n",
    "from sklearn.metrics import log_loss\n",
    "\n",
    "x = [i*.0001 for i in range(1,10000)]\n",
    "y = [log_loss([1],[[i*.0001,1-(i*.0001)]],eps=1e-15,labels=[1, 0]) for i in range(1,10000,1)]\n",
    "\n",
    "plt.plot(x, y)\n",
    "plt.axis([-.05, 1.1, -.8, 10])\n",
    "plt.title(\"Log Loss when true label = 1\")\n",
    "plt.xlabel(\"predicted probability\")\n",
    "plt.ylabel(\"log loss\")\n",
    "\n",
    "plt.show()"
   ]
  },
  {
   "cell_type": "code",
   "execution_count": null,
   "metadata": {
    "collapsed": true
   },
   "outputs": [],
   "source": [
    "#So to play it safe, we use a sneaky trick to round down our edge predictions\n",
    "#Swap all ones with .95 and all zeros with .05\n",
    "isdog = isdog.clip(min=0.05, max=0.95)"
   ]
  },
  {
   "cell_type": "code",
   "execution_count": null,
   "metadata": {
    "collapsed": true
   },
   "outputs": [],
   "source": [
    "#Extract imageIds from the filenames in our test/unknown directory \n",
    "filenames = batches.filenames\n",
    "ids = np.array([int(f[8:f.find('.')]) for f in filenames])"
   ]
  },
  {
   "cell_type": "code",
   "execution_count": null,
   "metadata": {
    "collapsed": false
   },
   "outputs": [],
   "source": [
    "subm = np.stack([ids,isdog], axis=1)\n",
    "subm[:5]"
   ]
  },
  {
   "cell_type": "code",
   "execution_count": null,
   "metadata": {
    "collapsed": false
   },
   "outputs": [],
   "source": [
    "%cd $DATA_HOME_DIR\n",
    "submission_file_name = 'submission1.csv'\n",
    "np.savetxt(submission_file_name, subm, fmt='%d,%.5f', header='id,label', comments='')"
   ]
  },
  {
   "cell_type": "code",
   "execution_count": null,
   "metadata": {
    "collapsed": false
   },
   "outputs": [],
   "source": [
    "from IPython.display import FileLink\n",
    "%cd $DATA_HOME_DIR\n",
    "FileLink('submission1.csv')"
   ]
  },
  {
   "cell_type": "code",
   "execution_count": null,
   "metadata": {
    "collapsed": true
   },
   "outputs": [],
   "source": []
  }
 ],
 "metadata": {
  "anaconda-cloud": {},
  "kernelspec": {
   "display_name": "Python [conda env:deepLearning]",
   "language": "python",
   "name": "conda-env-deepLearning-py"
  },
  "language_info": {
   "codemirror_mode": {
    "name": "ipython",
    "version": 3
   },
   "file_extension": ".py",
   "mimetype": "text/x-python",
   "name": "python",
   "nbconvert_exporter": "python",
   "pygments_lexer": "ipython3",
   "version": "3.5.2"
  }
 },
 "nbformat": 4,
 "nbformat_minor": 1
}
