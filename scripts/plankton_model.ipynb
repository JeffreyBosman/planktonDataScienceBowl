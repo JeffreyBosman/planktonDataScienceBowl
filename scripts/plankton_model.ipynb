{
 "cells": [
  {
   "cell_type": "markdown",
   "metadata": {},
   "source": [
    "# National Data Science Bowl - Plankton\n",
    "\n",
    "## Action Plan\n",
    "\n",
    "* Make overfitting model\n",
    "* Data augmentation\n",
    "* Batch normalization\n",
    "* Dropout\n",
    "* Ensembling"
   ]
  },
  {
   "cell_type": "markdown",
   "metadata": {
    "heading_collapsed": true
   },
   "source": [
    "## Imports and Directories"
   ]
  },
  {
   "cell_type": "code",
   "execution_count": 1,
   "metadata": {
    "collapsed": true,
    "hidden": true
   },
   "outputs": [],
   "source": [
    "#Create references to important directories we will use over and over\n",
    "import os, sys\n",
    "current_dir = os.getcwd()\n",
    "SCRIPTS_HOME_DIR = current_dir\n",
    "DATA_HOME_DIR = current_dir+'/data'"
   ]
  },
  {
   "cell_type": "code",
   "execution_count": 2,
   "metadata": {
    "collapsed": false,
    "hidden": true
   },
   "outputs": [
    {
     "name": "stderr",
     "output_type": "stream",
     "text": [
      "WARNING (theano.sandbox.cuda): The cuda backend is deprecated and will be removed in the next release (v0.10).  Please switch to the gpuarray backend. You can get more information about how to switch at this URL:\n",
      " https://github.com/Theano/Theano/wiki/Converting-to-the-new-gpu-back-end%28gpuarray%29\n",
      "\n",
      "Using gpu device 0: GeForce GTX 1070 (CNMeM is enabled with initial size: 90.0% of memory, cuDNN 5105)\n",
      "Using Theano backend.\n"
     ]
    }
   ],
   "source": [
    "#import modules\n",
    "from utils import *\n",
    "%matplotlib inline"
   ]
  },
  {
   "cell_type": "code",
   "execution_count": 3,
   "metadata": {
    "collapsed": false,
    "hidden": true
   },
   "outputs": [
    {
     "name": "stdout",
     "output_type": "stream",
     "text": [
      "/home/nathan/git/planktonDataScienceBowl/scripts/data\n"
     ]
    }
   ],
   "source": [
    "%cd $DATA_HOME_DIR\n",
    "\n",
    "#Set path to sample/ path if desired\n",
    "path = DATA_HOME_DIR #'/sample/'\n",
    "test_path = DATA_HOME_DIR + '/test/' #We use all the test data\n",
    "results_path=DATA_HOME_DIR + '/results/'\n",
    "train_path=path + '/train/'\n",
    "valid_path=path + '/valid/'"
   ]
  },
  {
   "cell_type": "markdown",
   "metadata": {
    "heading_collapsed": true
   },
   "source": [
    "## VGG Like Model"
   ]
  },
  {
   "cell_type": "markdown",
   "metadata": {
    "heading_collapsed": true,
    "hidden": true
   },
   "source": [
    "#### Constants"
   ]
  },
  {
   "cell_type": "code",
   "execution_count": 4,
   "metadata": {
    "collapsed": true,
    "hidden": true
   },
   "outputs": [],
   "source": [
    "img_rows, img_cols = 128, 128\n",
    "in_shape = (img_rows, img_cols)\n",
    "batch_size = 64\n",
    "nb_classes = 121"
   ]
  },
  {
   "cell_type": "markdown",
   "metadata": {
    "collapsed": true,
    "heading_collapsed": true,
    "hidden": true
   },
   "source": [
    "#### Batches"
   ]
  },
  {
   "cell_type": "code",
   "execution_count": 5,
   "metadata": {
    "collapsed": true,
    "hidden": true
   },
   "outputs": [],
   "source": [
    "gen = image.ImageDataGenerator(rescale=1. / 255)\n",
    "# gen = image.ImageDataGenerator()"
   ]
  },
  {
   "cell_type": "code",
   "execution_count": 6,
   "metadata": {
    "collapsed": false,
    "hidden": true
   },
   "outputs": [
    {
     "name": "stdout",
     "output_type": "stream",
     "text": [
      "Found 27184 images belonging to 121 classes.\n",
      "Found 3152 images belonging to 121 classes.\n"
     ]
    }
   ],
   "source": [
    "train_batches = get_batches(train_path, batch_size=batch_size, \n",
    "                            target_size=in_shape, color_mode=\"grayscale\", \n",
    "                            gen=gen)\n",
    "val_batches   = get_batches(valid_path, batch_size=batch_size, \n",
    "                            target_size=in_shape, color_mode=\"grayscale\", \n",
    "                            gen=gen)"
   ]
  },
  {
   "cell_type": "markdown",
   "metadata": {
    "collapsed": true,
    "heading_collapsed": true,
    "hidden": true
   },
   "source": [
    "#### Model"
   ]
  },
  {
   "cell_type": "code",
   "execution_count": 7,
   "metadata": {
    "collapsed": true,
    "hidden": true
   },
   "outputs": [],
   "source": [
    "def get_model():\n",
    "    model = Sequential([\n",
    "        Convolution2D(64,3,3, border_mode='same', activation='relu', input_shape=(1, img_rows, img_cols)),\n",
    "        Convolution2D(64,3,3, border_mode='same', activation='relu'),\n",
    "        MaxPooling2D(),\n",
    "        Convolution2D(128,3,3, border_mode='same', activation='relu'),\n",
    "        MaxPooling2D(),\n",
    "        Convolution2D(256,3,3, border_mode='same', activation='relu'),\n",
    "        MaxPooling2D(),\n",
    "        Flatten(),\n",
    "        Dense(2048, activation='relu'),\n",
    "        Dense(2048, activation='relu'),\n",
    "        Dense(2048, activation='relu'),\n",
    "        Dense(nb_classes, activation='softmax')\n",
    "        ])\n",
    "    model.compile(Adam(), loss='categorical_crossentropy', metrics=['accuracy'])\n",
    "    return model"
   ]
  },
  {
   "cell_type": "code",
   "execution_count": 8,
   "metadata": {
    "collapsed": false,
    "hidden": true
   },
   "outputs": [],
   "source": [
    "model = get_model()"
   ]
  },
  {
   "cell_type": "code",
   "execution_count": 9,
   "metadata": {
    "collapsed": false,
    "hidden": true
   },
   "outputs": [
    {
     "name": "stdout",
     "output_type": "stream",
     "text": [
      "____________________________________________________________________________________________________\n",
      "Layer (type)                     Output Shape          Param #     Connected to                     \n",
      "====================================================================================================\n",
      "convolution2d_1 (Convolution2D)  (None, 64, 128, 128)  640         convolution2d_input_1[0][0]      \n",
      "____________________________________________________________________________________________________\n",
      "convolution2d_2 (Convolution2D)  (None, 64, 128, 128)  36928       convolution2d_1[0][0]            \n",
      "____________________________________________________________________________________________________\n",
      "maxpooling2d_1 (MaxPooling2D)    (None, 64, 64, 64)    0           convolution2d_2[0][0]            \n",
      "____________________________________________________________________________________________________\n",
      "convolution2d_3 (Convolution2D)  (None, 128, 64, 64)   73856       maxpooling2d_1[0][0]             \n",
      "____________________________________________________________________________________________________\n",
      "maxpooling2d_2 (MaxPooling2D)    (None, 128, 32, 32)   0           convolution2d_3[0][0]            \n",
      "____________________________________________________________________________________________________\n",
      "convolution2d_4 (Convolution2D)  (None, 256, 32, 32)   295168      maxpooling2d_2[0][0]             \n",
      "____________________________________________________________________________________________________\n",
      "maxpooling2d_3 (MaxPooling2D)    (None, 256, 16, 16)   0           convolution2d_4[0][0]            \n",
      "____________________________________________________________________________________________________\n",
      "flatten_1 (Flatten)              (None, 65536)         0           maxpooling2d_3[0][0]             \n",
      "____________________________________________________________________________________________________\n",
      "dense_1 (Dense)                  (None, 2048)          134219776   flatten_1[0][0]                  \n",
      "____________________________________________________________________________________________________\n",
      "dense_2 (Dense)                  (None, 2048)          4196352     dense_1[0][0]                    \n",
      "____________________________________________________________________________________________________\n",
      "dense_3 (Dense)                  (None, 2048)          4196352     dense_2[0][0]                    \n",
      "____________________________________________________________________________________________________\n",
      "dense_4 (Dense)                  (None, 121)           247929      dense_3[0][0]                    \n",
      "====================================================================================================\n",
      "Total params: 143,267,001\n",
      "Trainable params: 143,267,001\n",
      "Non-trainable params: 0\n",
      "____________________________________________________________________________________________________\n"
     ]
    }
   ],
   "source": [
    "model.summary()"
   ]
  },
  {
   "cell_type": "markdown",
   "metadata": {
    "collapsed": true,
    "heading_collapsed": true,
    "hidden": true
   },
   "source": [
    "#### Train"
   ]
  },
  {
   "cell_type": "code",
   "execution_count": null,
   "metadata": {
    "collapsed": false,
    "hidden": true
   },
   "outputs": [
    {
     "name": "stdout",
     "output_type": "stream",
     "text": [
      "Epoch 1/5\n",
      " 3776/27184 [===>..........................] - ETA: 95s - loss: 4.0138 - acc: 0.1205"
     ]
    }
   ],
   "source": [
    "model.fit_generator(train_batches, samples_per_epoch=train_batches.nb_sample,\n",
    "                    nb_epoch=5,\n",
    "                    validation_data=val_batches,\n",
    "                    nb_val_samples=val_batches.nb_sample,\n",
    "                    verbose=True)"
   ]
  },
  {
   "cell_type": "code",
   "execution_count": null,
   "metadata": {
    "collapsed": false,
    "hidden": true
   },
   "outputs": [],
   "source": [
    "model.optimizer.lr=0.1\n",
    "model.fit_generator(train_batches, samples_per_epoch=train_batches.nb_sample,\n",
    "                    nb_epoch=1,\n",
    "                    validation_data=val_batches, nb_val_samples=val_batches.nb_sample,\n",
    "                    verbose=True)"
   ]
  },
  {
   "cell_type": "code",
   "execution_count": null,
   "metadata": {
    "collapsed": false,
    "hidden": true
   },
   "outputs": [],
   "source": [
    "model.optimizer.lr=0.01\n",
    "model.fit_generator(train_batches, samples_per_epoch=train_batches.nb_sample,\n",
    "                    nb_epoch=4,\n",
    "                    validation_data=val_batches, nb_val_samples=val_batches.nb_sample,\n",
    "                    verbose=True)"
   ]
  },
  {
   "cell_type": "markdown",
   "metadata": {
    "heading_collapsed": true
   },
   "source": [
    "## Data Augmentation"
   ]
  },
  {
   "cell_type": "markdown",
   "metadata": {
    "heading_collapsed": true,
    "hidden": true
   },
   "source": [
    "#### Constants"
   ]
  },
  {
   "cell_type": "code",
   "execution_count": 4,
   "metadata": {
    "collapsed": false,
    "hidden": true
   },
   "outputs": [],
   "source": [
    "img_rows, img_cols = 128, 128\n",
    "in_shape = (img_rows, img_cols)\n",
    "batch_size = 64\n",
    "nb_classes = 121\n",
    "mean_px = 0.046544086\n",
    "std_px = 0.15035126"
   ]
  },
  {
   "cell_type": "markdown",
   "metadata": {
    "collapsed": true,
    "heading_collapsed": true,
    "hidden": true
   },
   "source": [
    "#### Batches"
   ]
  },
  {
   "cell_type": "code",
   "execution_count": 5,
   "metadata": {
    "collapsed": true,
    "hidden": true
   },
   "outputs": [],
   "source": [
    "batch_gen = image.ImageDataGenerator(\n",
    "                rotation_range=360,\n",
    "                width_shift_range=0.03,\n",
    "                height_shift_range=0.03,\n",
    "                shear_range=0.10,\n",
    "                zoom_range=0.10,\n",
    "                rescale=1. / 255,\n",
    "                horizontal_flip = True,\n",
    "                vertical_flip = True)\n",
    "\n",
    "valid_gen = image.ImageDataGenerator(\n",
    "#                                      featurewise_center=True,\n",
    "#                                      featurewise_std_normalization=True,\n",
    "                                     rescale=1. / 255\n",
    "                                    )"
   ]
  },
  {
   "cell_type": "code",
   "execution_count": 6,
   "metadata": {
    "collapsed": false,
    "hidden": true
   },
   "outputs": [
    {
     "name": "stdout",
     "output_type": "stream",
     "text": [
      "Found 27184 images belonging to 121 classes.\n",
      "Found 3152 images belonging to 121 classes.\n"
     ]
    }
   ],
   "source": [
    "train_batches = get_batches(train_path, batch_size=batch_size, \n",
    "                            target_size=in_shape, color_mode=\"grayscale\", \n",
    "                            gen=batch_gen)\n",
    "val_batches   = get_batches(valid_path, batch_size=batch_size, \n",
    "                            target_size=in_shape, color_mode=\"grayscale\", \n",
    "                            gen=valid_gen)"
   ]
  },
  {
   "cell_type": "markdown",
   "metadata": {
    "collapsed": true,
    "heading_collapsed": true,
    "hidden": true
   },
   "source": [
    "#### Model"
   ]
  },
  {
   "cell_type": "code",
   "execution_count": 7,
   "metadata": {
    "collapsed": true,
    "hidden": true
   },
   "outputs": [],
   "source": [
    "def norm_input(x): \n",
    "    return x\n",
    "    return (x-mean_px)/(std_px)"
   ]
  },
  {
   "cell_type": "code",
   "execution_count": 10,
   "metadata": {
    "collapsed": true,
    "hidden": true
   },
   "outputs": [],
   "source": [
    "def get_model():\n",
    "    model = Sequential([\n",
    "#         Convolution2D(64,3,3, border_mode='same', activation='relu', input_shape=(1, img_rows, img_cols)),\n",
    "        Lambda(norm_input, input_shape=(1, img_rows, img_cols), output_shape=(1, img_rows, img_cols)),\n",
    "        Convolution2D(64,3,3, border_mode='same', activation='relu'),\n",
    "        Convolution2D(64,3,3, border_mode='same', activation='relu'),\n",
    "        MaxPooling2D(),\n",
    "        Convolution2D(128,3,3, border_mode='same', activation='relu'),\n",
    "        MaxPooling2D(),\n",
    "        Convolution2D(256,3,3, border_mode='same', activation='relu'),\n",
    "        MaxPooling2D(),\n",
    "        Flatten(),\n",
    "        Dense(2048, activation='relu'),\n",
    "        Dense(2048, activation='relu'),\n",
    "        Dense(2048, activation='relu'),\n",
    "        Dense(nb_classes, activation='softmax')\n",
    "        ])\n",
    "    model.compile(Adam(), loss='categorical_crossentropy', metrics=['accuracy'])\n",
    "    return model"
   ]
  },
  {
   "cell_type": "code",
   "execution_count": 11,
   "metadata": {
    "collapsed": false,
    "hidden": true
   },
   "outputs": [
    {
     "name": "stderr",
     "output_type": "stream",
     "text": [
      "/home/nathan/anaconda3/envs/deepLearning/lib/python3.5/site-packages/keras/engine/topology.py:1811: UserWarning: Model inputs must come from a Keras Input layer, they cannot be the output of a previous non-Input layer. Here, a tensor specified as input to \"sequential_2_model\" was not an Input tensor, it was generated by layer lambda_2.\n",
      "Note that input tensors are instantiated via `tensor = Input(shape)`.\n",
      "The tensor that caused the issue was: lambda_input_2\n",
      "  str(x.name))\n"
     ]
    }
   ],
   "source": [
    "model = get_model()"
   ]
  },
  {
   "cell_type": "code",
   "execution_count": 12,
   "metadata": {
    "collapsed": false,
    "hidden": true,
    "scrolled": true
   },
   "outputs": [
    {
     "name": "stdout",
     "output_type": "stream",
     "text": [
      "____________________________________________________________________________________________________\n",
      "Layer (type)                     Output Shape          Param #     Connected to                     \n",
      "====================================================================================================\n",
      "lambda_2 (Lambda)                (None, 1, 128, 128)   0           lambda_input_2[0][0]             \n",
      "____________________________________________________________________________________________________\n",
      "convolution2d_5 (Convolution2D)  (None, 64, 128, 128)  640         lambda_2[0][0]                   \n",
      "____________________________________________________________________________________________________\n",
      "convolution2d_6 (Convolution2D)  (None, 64, 128, 128)  36928       convolution2d_5[0][0]            \n",
      "____________________________________________________________________________________________________\n",
      "maxpooling2d_4 (MaxPooling2D)    (None, 64, 64, 64)    0           convolution2d_6[0][0]            \n",
      "____________________________________________________________________________________________________\n",
      "convolution2d_7 (Convolution2D)  (None, 128, 64, 64)   73856       maxpooling2d_4[0][0]             \n",
      "____________________________________________________________________________________________________\n",
      "maxpooling2d_5 (MaxPooling2D)    (None, 128, 32, 32)   0           convolution2d_7[0][0]            \n",
      "____________________________________________________________________________________________________\n",
      "convolution2d_8 (Convolution2D)  (None, 256, 32, 32)   295168      maxpooling2d_5[0][0]             \n",
      "____________________________________________________________________________________________________\n",
      "maxpooling2d_6 (MaxPooling2D)    (None, 256, 16, 16)   0           convolution2d_8[0][0]            \n",
      "____________________________________________________________________________________________________\n",
      "flatten_2 (Flatten)              (None, 65536)         0           maxpooling2d_6[0][0]             \n",
      "____________________________________________________________________________________________________\n",
      "dense_5 (Dense)                  (None, 2048)          134219776   flatten_2[0][0]                  \n",
      "____________________________________________________________________________________________________\n",
      "dense_6 (Dense)                  (None, 2048)          4196352     dense_5[0][0]                    \n",
      "____________________________________________________________________________________________________\n",
      "dense_7 (Dense)                  (None, 2048)          4196352     dense_6[0][0]                    \n",
      "____________________________________________________________________________________________________\n",
      "dense_8 (Dense)                  (None, 121)           247929      dense_7[0][0]                    \n",
      "====================================================================================================\n",
      "Total params: 143,267,001\n",
      "Trainable params: 143,267,001\n",
      "Non-trainable params: 0\n",
      "____________________________________________________________________________________________________\n"
     ]
    }
   ],
   "source": [
    "model.summary()"
   ]
  },
  {
   "cell_type": "markdown",
   "metadata": {
    "collapsed": true,
    "heading_collapsed": true,
    "hidden": true
   },
   "source": [
    "#### Train"
   ]
  },
  {
   "cell_type": "code",
   "execution_count": null,
   "metadata": {
    "collapsed": false,
    "hidden": true
   },
   "outputs": [
    {
     "name": "stdout",
     "output_type": "stream",
     "text": [
      "Epoch 1/25\n",
      "27184/27184 [==============================] - 115s - loss: 2.7705 - acc: 0.2926 - val_loss: 2.1929 - val_acc: 0.3871\n",
      "Epoch 2/25\n",
      "27184/27184 [==============================] - 114s - loss: 1.9655 - acc: 0.4385 - val_loss: 1.7786 - val_acc: 0.4759\n",
      "Epoch 3/25\n",
      " 6912/27184 [======>.......................] - ETA: 84s - loss: 1.7519 - acc: 0.4848"
     ]
    }
   ],
   "source": [
    "history = model.fit_generator(train_batches, samples_per_epoch=train_batches.nb_sample,\n",
    "                    validation_data=val_batches, nb_val_samples=val_batches.nb_sample,\n",
    "                    nb_epoch=25, verbose=True)"
   ]
  },
  {
   "cell_type": "code",
   "execution_count": 22,
   "metadata": {
    "collapsed": true,
    "hidden": true
   },
   "outputs": [],
   "source": [
    "model.save_weights('last_attempt_augmentation.h5')"
   ]
  },
  {
   "cell_type": "markdown",
   "metadata": {
    "hidden": true
   },
   "source": [
    "#### Visualize Training"
   ]
  },
  {
   "cell_type": "code",
   "execution_count": 24,
   "metadata": {
    "collapsed": false,
    "hidden": true,
    "scrolled": true
   },
   "outputs": [
    {
     "data": {
      "text/plain": [
       "<seaborn.axisgrid.FacetGrid at 0x7fcf099f2e10>"
      ]
     },
     "execution_count": 24,
     "metadata": {},
     "output_type": "execute_result"
    },
    {
     "data": {
      "image/png": "[encoded data removed]",
      "text/plain": [
       "<matplotlib.figure.Figure at 0x7fcf099f2e80>"
      ]
     },
     "metadata": {},
     "output_type": "display_data"
    }
   ],
   "source": [
    "df = pd.DataFrame(history.history)\n",
    "df['epoch_number'] = range(len(df))\n",
    "sns.lmplot(x=\"epoch_number\", y=\"val_acc\", data=df, fit_reg=False)"
   ]
  },
  {
   "cell_type": "markdown",
   "metadata": {
    "heading_collapsed": true
   },
   "source": [
    "## Data Augmentation + Batch Normalization"
   ]
  },
  {
   "cell_type": "markdown",
   "metadata": {
    "heading_collapsed": true,
    "hidden": true
   },
   "source": [
    "#### Constants"
   ]
  },
  {
   "cell_type": "code",
   "execution_count": 4,
   "metadata": {
    "collapsed": false,
    "hidden": true
   },
   "outputs": [],
   "source": [
    "img_rows, img_cols = 128, 128\n",
    "in_shape = (img_rows, img_cols)\n",
    "batch_size = 64\n",
    "nb_classes = 121\n",
    "mean_px = 0.046544086\n",
    "std_px = 0.15035126"
   ]
  },
  {
   "cell_type": "markdown",
   "metadata": {
    "collapsed": true,
    "heading_collapsed": true,
    "hidden": true
   },
   "source": [
    "#### Batches"
   ]
  },
  {
   "cell_type": "code",
   "execution_count": 5,
   "metadata": {
    "collapsed": true,
    "hidden": true
   },
   "outputs": [],
   "source": [
    "batch_gen = image.ImageDataGenerator(\n",
    "                rotation_range=360,\n",
    "                width_shift_range=0.03,\n",
    "                height_shift_range=0.03,\n",
    "                shear_range=0.10,\n",
    "                zoom_range=0.10,\n",
    "                rescale=1. / 255,\n",
    "                horizontal_flip = True,\n",
    "                vertical_flip = True)\n",
    "\n",
    "valid_gen = image.ImageDataGenerator(\n",
    "                                     rescale=1. / 255\n",
    "                                    )"
   ]
  },
  {
   "cell_type": "code",
   "execution_count": 6,
   "metadata": {
    "collapsed": false,
    "hidden": true
   },
   "outputs": [
    {
     "name": "stdout",
     "output_type": "stream",
     "text": [
      "Found 27184 images belonging to 121 classes.\n",
      "Found 3152 images belonging to 121 classes.\n"
     ]
    }
   ],
   "source": [
    "train_batches = get_batches(train_path, batch_size=batch_size, \n",
    "                            target_size=in_shape, color_mode=\"grayscale\", \n",
    "                            gen=batch_gen)\n",
    "val_batches   = get_batches(valid_path, batch_size=batch_size, \n",
    "                            target_size=in_shape, color_mode=\"grayscale\", \n",
    "                            gen=valid_gen)"
   ]
  },
  {
   "cell_type": "markdown",
   "metadata": {
    "collapsed": true,
    "heading_collapsed": true,
    "hidden": true
   },
   "source": [
    "#### Model"
   ]
  },
  {
   "cell_type": "code",
   "execution_count": 7,
   "metadata": {
    "collapsed": true,
    "hidden": true
   },
   "outputs": [],
   "source": [
    "def norm_input(x): return (x-mean_px)/(std_px)"
   ]
  },
  {
   "cell_type": "code",
   "execution_count": 8,
   "metadata": {
    "collapsed": true,
    "hidden": true
   },
   "outputs": [],
   "source": [
    "def get_model():\n",
    "    model = Sequential([\n",
    "        Lambda(norm_input, input_shape=(1, img_rows, img_cols), output_shape=(1, img_rows, img_cols)),\n",
    "        Convolution2D(64,3,3, border_mode='same', activation='relu'),\n",
    "        BatchNormalization(axis=1),\n",
    "        Convolution2D(64,3,3, border_mode='same', activation='relu'),\n",
    "        MaxPooling2D(),\n",
    "        BatchNormalization(axis=1),\n",
    "        Convolution2D(128,3,3, border_mode='same', activation='relu'),\n",
    "        MaxPooling2D(),\n",
    "        BatchNormalization(axis=1),\n",
    "        Convolution2D(256,3,3, border_mode='same', activation='relu'),\n",
    "        MaxPooling2D(),\n",
    "        Flatten(),\n",
    "        BatchNormalization(),\n",
    "        Dense(2048, activation='relu'),\n",
    "        BatchNormalization(),\n",
    "        Dense(2048, activation='relu'),\n",
    "        BatchNormalization(),\n",
    "        Dense(2048, activation='relu'),\n",
    "        BatchNormalization(),\n",
    "        Dense(nb_classes, activation='softmax')\n",
    "        ])\n",
    "    model.compile(Adam(), loss='categorical_crossentropy', metrics=['accuracy'])\n",
    "    return model"
   ]
  },
  {
   "cell_type": "code",
   "execution_count": 9,
   "metadata": {
    "collapsed": false,
    "hidden": true
   },
   "outputs": [],
   "source": [
    "model = get_model()"
   ]
  },
  {
   "cell_type": "code",
   "execution_count": 10,
   "metadata": {
    "collapsed": true,
    "hidden": true
   },
   "outputs": [
    {
     "name": "stdout",
     "output_type": "stream",
     "text": [
      "____________________________________________________________________________________________________\n",
      "Layer (type)                     Output Shape          Param #     Connected to                     \n",
      "====================================================================================================\n",
      "lambda_1 (Lambda)                (None, 1, 128, 128)   0           lambda_input_1[0][0]             \n",
      "____________________________________________________________________________________________________\n",
      "convolution2d_1 (Convolution2D)  (None, 64, 128, 128)  640         lambda_1[0][0]                   \n",
      "____________________________________________________________________________________________________\n",
      "batchnormalization_1 (BatchNorma (None, 64, 128, 128)  256         convolution2d_1[0][0]            \n",
      "____________________________________________________________________________________________________\n",
      "convolution2d_2 (Convolution2D)  (None, 64, 128, 128)  36928       batchnormalization_1[0][0]       \n",
      "____________________________________________________________________________________________________\n",
      "maxpooling2d_1 (MaxPooling2D)    (None, 64, 64, 64)    0           convolution2d_2[0][0]            \n",
      "____________________________________________________________________________________________________\n",
      "batchnormalization_2 (BatchNorma (None, 64, 64, 64)    256         maxpooling2d_1[0][0]             \n",
      "____________________________________________________________________________________________________\n",
      "convolution2d_3 (Convolution2D)  (None, 128, 64, 64)   73856       batchnormalization_2[0][0]       \n",
      "____________________________________________________________________________________________________\n",
      "maxpooling2d_2 (MaxPooling2D)    (None, 128, 32, 32)   0           convolution2d_3[0][0]            \n",
      "____________________________________________________________________________________________________\n",
      "batchnormalization_3 (BatchNorma (None, 128, 32, 32)   512         maxpooling2d_2[0][0]             \n",
      "____________________________________________________________________________________________________\n",
      "convolution2d_4 (Convolution2D)  (None, 256, 32, 32)   295168      batchnormalization_3[0][0]       \n",
      "____________________________________________________________________________________________________\n",
      "maxpooling2d_3 (MaxPooling2D)    (None, 256, 16, 16)   0           convolution2d_4[0][0]            \n",
      "____________________________________________________________________________________________________\n",
      "flatten_1 (Flatten)              (None, 65536)         0           maxpooling2d_3[0][0]             \n",
      "____________________________________________________________________________________________________\n",
      "batchnormalization_4 (BatchNorma (None, 65536)         262144      flatten_1[0][0]                  \n",
      "____________________________________________________________________________________________________\n",
      "dense_1 (Dense)                  (None, 2048)          134219776   batchnormalization_4[0][0]       \n",
      "____________________________________________________________________________________________________\n",
      "batchnormalization_5 (BatchNorma (None, 2048)          8192        dense_1[0][0]                    \n",
      "____________________________________________________________________________________________________\n",
      "dense_2 (Dense)                  (None, 2048)          4196352     batchnormalization_5[0][0]       \n",
      "____________________________________________________________________________________________________\n",
      "batchnormalization_6 (BatchNorma (None, 2048)          8192        dense_2[0][0]                    \n",
      "____________________________________________________________________________________________________\n",
      "dense_3 (Dense)                  (None, 2048)          4196352     batchnormalization_6[0][0]       \n",
      "____________________________________________________________________________________________________\n",
      "batchnormalization_7 (BatchNorma (None, 2048)          8192        dense_3[0][0]                    \n",
      "____________________________________________________________________________________________________\n",
      "dense_4 (Dense)                  (None, 121)           247929      batchnormalization_7[0][0]       \n",
      "====================================================================================================\n",
      "Total params: 143,554,745\n",
      "Trainable params: 143,410,873\n",
      "Non-trainable params: 143,872\n",
      "____________________________________________________________________________________________________\n"
     ]
    }
   ],
   "source": [
    "model.summary()"
   ]
  },
  {
   "cell_type": "markdown",
   "metadata": {
    "collapsed": true,
    "heading_collapsed": true,
    "hidden": true
   },
   "source": [
    "#### Train"
   ]
  },
  {
   "cell_type": "code",
   "execution_count": 11,
   "metadata": {
    "collapsed": true,
    "hidden": true
   },
   "outputs": [],
   "source": [
    "def update_history(old, new):\n",
    "    for key, value in new.history.items():\n",
    "        old.history[key] = (old.history[key] + value)\n",
    "    return old"
   ]
  },
  {
   "cell_type": "code",
   "execution_count": 12,
   "metadata": {
    "collapsed": false,
    "hidden": true
   },
   "outputs": [
    {
     "name": "stdout",
     "output_type": "stream",
     "text": [
      "Epoch 1/30\n",
      "27184/27184 [==============================] - 132s - loss: 3.0283 - acc: 0.3131 - val_loss: 8.0631 - val_acc: 0.0660\n",
      "Epoch 2/30\n",
      "27184/27184 [==============================] - 144s - loss: 2.3078 - acc: 0.4186 - val_loss: 2.6403 - val_acc: 0.3604\n",
      "Epoch 3/30\n",
      "27184/27184 [==============================] - 135s - loss: 2.1343 - acc: 0.4505 - val_loss: 3.2266 - val_acc: 0.2897\n",
      "Epoch 4/30\n",
      "27184/27184 [==============================] - 144s - loss: 1.9885 - acc: 0.4663 - val_loss: 2.7592 - val_acc: 0.3296\n",
      "Epoch 5/30\n",
      "27184/27184 [==============================] - 143s - loss: 1.8535 - acc: 0.4946 - val_loss: 1.7695 - val_acc: 0.5016\n",
      "Epoch 6/30\n",
      "27184/27184 [==============================] - 134s - loss: 1.8714 - acc: 0.4982 - val_loss: 2.2544 - val_acc: 0.4277\n",
      "Epoch 7/30\n",
      "27184/27184 [==============================] - 134s - loss: 1.7590 - acc: 0.5247 - val_loss: 7.0555 - val_acc: 0.1307\n",
      "Epoch 8/30\n",
      "27184/27184 [==============================] - 136s - loss: 1.6618 - acc: 0.5376 - val_loss: 1.6367 - val_acc: 0.5251\n",
      "Epoch 9/30\n",
      "27184/27184 [==============================] - 134s - loss: 1.5032 - acc: 0.5566 - val_loss: 2.1080 - val_acc: 0.4952\n",
      "Epoch 10/30\n",
      "27184/27184 [==============================] - 133s - loss: 1.4133 - acc: 0.5750 - val_loss: 1.8195 - val_acc: 0.5171\n",
      "Epoch 11/30\n",
      "27184/27184 [==============================] - 133s - loss: 1.3503 - acc: 0.5873 - val_loss: 1.5002 - val_acc: 0.5654\n",
      "Epoch 12/30\n",
      "27184/27184 [==============================] - 133s - loss: 1.2887 - acc: 0.6017 - val_loss: 1.4664 - val_acc: 0.5822\n",
      "Epoch 13/30\n",
      "27184/27184 [==============================] - 133s - loss: 1.2650 - acc: 0.6058 - val_loss: 1.5961 - val_acc: 0.5574\n",
      "Epoch 14/30\n",
      "27184/27184 [==============================] - 140s - loss: 1.2246 - acc: 0.6152 - val_loss: 1.9624 - val_acc: 0.4927\n",
      "Epoch 15/30\n",
      "27184/27184 [==============================] - 149s - loss: 1.1835 - acc: 0.6259 - val_loss: 2.5967 - val_acc: 0.3753\n",
      "Epoch 16/30\n",
      "27184/27184 [==============================] - 149s - loss: 1.1525 - acc: 0.6375 - val_loss: 1.6221 - val_acc: 0.5546\n",
      "Epoch 17/30\n",
      "27184/27184 [==============================] - 149s - loss: 1.1284 - acc: 0.6428 - val_loss: 1.7973 - val_acc: 0.5044\n",
      "Epoch 18/30\n",
      "27184/27184 [==============================] - 154s - loss: 1.0974 - acc: 0.6475 - val_loss: 2.0837 - val_acc: 0.4854\n",
      "Epoch 19/30\n",
      "27184/27184 [==============================] - 153s - loss: 1.0895 - acc: 0.6502 - val_loss: 1.3584 - val_acc: 0.6183\n",
      "Epoch 20/30\n",
      "27184/27184 [==============================] - 143s - loss: 1.0564 - acc: 0.6602 - val_loss: 1.5632 - val_acc: 0.5771\n",
      "Epoch 21/30\n",
      "27184/27184 [==============================] - 134s - loss: 1.0358 - acc: 0.6641 - val_loss: 2.0841 - val_acc: 0.5324\n",
      "Epoch 22/30\n",
      "27184/27184 [==============================] - 132s - loss: 1.0112 - acc: 0.6735 - val_loss: 3.9474 - val_acc: 0.3131\n",
      "Epoch 23/30\n",
      "27184/27184 [==============================] - 132s - loss: 0.9858 - acc: 0.6761 - val_loss: 1.4636 - val_acc: 0.6095\n",
      "Epoch 24/30\n",
      "27184/27184 [==============================] - 132s - loss: 0.9660 - acc: 0.6861 - val_loss: 1.6590 - val_acc: 0.5638\n",
      "Epoch 25/30\n",
      "27184/27184 [==============================] - 132s - loss: 0.9394 - acc: 0.6894 - val_loss: 1.2847 - val_acc: 0.6348\n",
      "Epoch 26/30\n",
      "27184/27184 [==============================] - 132s - loss: 0.9232 - acc: 0.6931 - val_loss: 1.2970 - val_acc: 0.6298\n",
      "Epoch 27/30\n",
      "27184/27184 [==============================] - 132s - loss: 0.9096 - acc: 0.6956 - val_loss: 2.4494 - val_acc: 0.4905\n",
      "Epoch 28/30\n",
      "27184/27184 [==============================] - 132s - loss: 0.8793 - acc: 0.7016 - val_loss: 1.9375 - val_acc: 0.4962\n",
      "Epoch 29/30\n",
      "27184/27184 [==============================] - 132s - loss: 0.8587 - acc: 0.7107 - val_loss: 3.4970 - val_acc: 0.4556\n",
      "Epoch 30/30\n",
      "27184/27184 [==============================] - 132s - loss: 0.8532 - acc: 0.7130 - val_loss: 1.3740 - val_acc: 0.6158\n"
     ]
    }
   ],
   "source": [
    "history = model.fit_generator(train_batches, samples_per_epoch=train_batches.nb_sample,\n",
    "                    validation_data=val_batches, nb_val_samples=val_batches.nb_sample,\n",
    "                    nb_epoch=30, verbose=True)"
   ]
  },
  {
   "cell_type": "code",
   "execution_count": 19,
   "metadata": {
    "collapsed": false,
    "hidden": true
   },
   "outputs": [
    {
     "name": "stdout",
     "output_type": "stream",
     "text": [
      "Epoch 1/5\n",
      "27184/27184 [==============================] - 185s - loss: 0.8349 - acc: 0.7219 - val_loss: 3.2147 - val_acc: 0.4188\n",
      "Epoch 2/5\n",
      "27184/27184 [==============================] - 185s - loss: 0.8113 - acc: 0.7238 - val_loss: 2.0126 - val_acc: 0.5266\n",
      "Epoch 3/5\n",
      "27184/27184 [==============================] - 185s - loss: 0.7950 - acc: 0.7298 - val_loss: 1.8864 - val_acc: 0.5698\n",
      "Epoch 4/5\n",
      "27184/27184 [==============================] - 185s - loss: 0.7836 - acc: 0.7316 - val_loss: 5.8026 - val_acc: 0.3106\n",
      "Epoch 5/5\n",
      "27184/27184 [==============================] - 185s - loss: 0.7755 - acc: 0.7332 - val_loss: 1.4031 - val_acc: 0.6459\n"
     ]
    }
   ],
   "source": [
    "model.optimizer.lr=0.00001\n",
    "history_new = model.fit_generator(train_batches, samples_per_epoch=train_batches.nb_sample,\n",
    "                    validation_data=val_batches, nb_val_samples=val_batches.nb_sample,\n",
    "                    nb_epoch=5, verbose=True)\n",
    "history = update_history(history, history_new)"
   ]
  },
  {
   "cell_type": "code",
   "execution_count": 41,
   "metadata": {
    "collapsed": false,
    "hidden": true
   },
   "outputs": [
    {
     "name": "stdout",
     "output_type": "stream",
     "text": [
      "Epoch 1/1\n",
      "27184/27184 [==============================] - 316s - loss: 4.2346 - acc: 0.1007 - val_loss: 3.9503 - val_acc: 0.1497\n"
     ]
    },
    {
     "ename": "NameError",
     "evalue": "name 'history' is not defined",
     "output_type": "error",
     "traceback": [
      "\u001b[0;31m---------------------------------------------------------------------------\u001b[0m",
      "\u001b[0;31mNameError\u001b[0m                                 Traceback (most recent call last)",
      "\u001b[0;32m<ipython-input-41-bc279f916fa3>\u001b[0m in \u001b[0;36m<module>\u001b[0;34m()\u001b[0m\n\u001b[1;32m      3\u001b[0m                     \u001b[0mvalidation_data\u001b[0m\u001b[0;34m=\u001b[0m\u001b[0mval_batches\u001b[0m\u001b[0;34m,\u001b[0m \u001b[0mnb_val_samples\u001b[0m\u001b[0;34m=\u001b[0m\u001b[0mval_batches\u001b[0m\u001b[0;34m.\u001b[0m\u001b[0mnb_sample\u001b[0m\u001b[0;34m,\u001b[0m\u001b[0;34m\u001b[0m\u001b[0m\n\u001b[1;32m      4\u001b[0m                     nb_epoch=1, verbose=True)\n\u001b[0;32m----> 5\u001b[0;31m \u001b[0mhistory\u001b[0m \u001b[0;34m=\u001b[0m \u001b[0mupdate_history\u001b[0m\u001b[0;34m(\u001b[0m\u001b[0mhistory\u001b[0m\u001b[0;34m,\u001b[0m \u001b[0mhistory_new\u001b[0m\u001b[0;34m)\u001b[0m\u001b[0;34m\u001b[0m\u001b[0m\n\u001b[0m",
      "\u001b[0;31mNameError\u001b[0m: name 'history' is not defined"
     ]
    }
   ],
   "source": [
    "model.optimizer.lr=0.000001\n",
    "history_new = model.fit_generator(train_batches, samples_per_epoch=train_batches.nb_sample,\n",
    "                    validation_data=val_batches, nb_val_samples=val_batches.nb_sample,\n",
    "                    nb_epoch=1, verbose=True)\n",
    "history = update_history(history, history_new)"
   ]
  },
  {
   "cell_type": "code",
   "execution_count": null,
   "metadata": {
    "collapsed": false,
    "hidden": true
   },
   "outputs": [],
   "source": [
    "model.optimizer.lr=0.0000001\n",
    "history_new = model.fit_generator(train_batches, samples_per_epoch=train_batches.nb_sample,\n",
    "                    validation_data=val_batches, nb_val_samples=val_batches.nb_sample,\n",
    "                    nb_epoch=100, verbose=True)\n",
    "history = update_history(history, history_new)"
   ]
  },
  {
   "cell_type": "code",
   "execution_count": 11,
   "metadata": {
    "collapsed": true,
    "hidden": true
   },
   "outputs": [
    {
     "name": "stdout",
     "output_type": "stream",
     "text": [
      "Epoch 1/30\n",
      "27184/27184 [==============================] - 168s - loss: 3.0107 - acc: 0.3190 - val_loss: 9.7742 - val_acc: 0.0853\n",
      "Epoch 2/30\n",
      "27184/27184 [==============================] - 171s - loss: 2.3195 - acc: 0.4146 - val_loss: 3.2141 - val_acc: 0.3220\n",
      "Epoch 3/30\n",
      "27184/27184 [==============================] - 178s - loss: 1.9687 - acc: 0.4579 - val_loss: 2.6561 - val_acc: 0.3791\n",
      "Epoch 4/30\n",
      "27184/27184 [==============================] - 169s - loss: 1.7481 - acc: 0.4985 - val_loss: 2.0476 - val_acc: 0.4213\n",
      "Epoch 5/30\n",
      "27184/27184 [==============================] - 162s - loss: 1.6184 - acc: 0.5283 - val_loss: 3.5724 - val_acc: 0.2582\n",
      "Epoch 6/30\n",
      "27184/27184 [==============================] - 161s - loss: 1.5127 - acc: 0.5539 - val_loss: 2.4700 - val_acc: 0.3731\n",
      "Epoch 7/30\n",
      "27184/27184 [==============================] - 162s - loss: 1.4419 - acc: 0.5693 - val_loss: 2.9279 - val_acc: 0.2947\n",
      "Epoch 8/30\n",
      "27184/27184 [==============================] - 162s - loss: 1.3834 - acc: 0.5777 - val_loss: 2.0762 - val_acc: 0.4603\n",
      "Epoch 9/30\n",
      "27184/27184 [==============================] - 167s - loss: 1.3573 - acc: 0.5895 - val_loss: 2.0528 - val_acc: 0.4565\n",
      "Epoch 10/30\n",
      "27184/27184 [==============================] - 162s - loss: 1.3205 - acc: 0.5953 - val_loss: 3.0329 - val_acc: 0.3017\n",
      "Epoch 11/30\n",
      "27184/27184 [==============================] - 161s - loss: 1.2734 - acc: 0.6049 - val_loss: 3.4152 - val_acc: 0.3560\n",
      "Epoch 12/30\n",
      "27184/27184 [==============================] - 161s - loss: 1.2447 - acc: 0.6166 - val_loss: 1.7265 - val_acc: 0.5178\n",
      "Epoch 13/30\n",
      "27184/27184 [==============================] - 166s - loss: 1.1989 - acc: 0.6257 - val_loss: 1.4931 - val_acc: 0.6053\n",
      "Epoch 14/30\n",
      "27184/27184 [==============================] - 169s - loss: 1.1761 - acc: 0.6305 - val_loss: 3.6419 - val_acc: 0.3182\n",
      "Epoch 15/30\n",
      "27184/27184 [==============================] - 178s - loss: 1.1698 - acc: 0.6327 - val_loss: 1.9799 - val_acc: 0.5038\n",
      "Epoch 16/30\n",
      "27184/27184 [==============================] - 186s - loss: 1.1200 - acc: 0.6432 - val_loss: 1.4495 - val_acc: 0.6079\n",
      "Epoch 17/30\n",
      "27184/27184 [==============================] - 187s - loss: 1.0635 - acc: 0.6567 - val_loss: 1.5350 - val_acc: 0.5949\n",
      "Epoch 18/30\n",
      "27184/27184 [==============================] - 186s - loss: 1.0423 - acc: 0.6642 - val_loss: 1.3896 - val_acc: 0.6215\n",
      "Epoch 19/30\n",
      "27184/27184 [==============================] - 186s - loss: 1.0349 - acc: 0.6624 - val_loss: 2.1821 - val_acc: 0.4886\n",
      "Epoch 20/30\n",
      "27184/27184 [==============================] - 186s - loss: 0.9983 - acc: 0.6723 - val_loss: 2.1046 - val_acc: 0.5181\n",
      "Epoch 21/30\n",
      "27184/27184 [==============================] - 187s - loss: 0.9908 - acc: 0.6759 - val_loss: 1.4824 - val_acc: 0.6171\n",
      "Epoch 22/30\n",
      "27184/27184 [==============================] - 188s - loss: 0.9556 - acc: 0.6866 - val_loss: 1.7217 - val_acc: 0.5470\n",
      "Epoch 23/30\n",
      "27184/27184 [==============================] - 186s - loss: 0.9622 - acc: 0.6854 - val_loss: 1.4488 - val_acc: 0.6326\n",
      "Epoch 24/30\n",
      "27184/27184 [==============================] - 186s - loss: 0.9265 - acc: 0.6936 - val_loss: 1.4554 - val_acc: 0.6313\n",
      "Epoch 25/30\n",
      "27184/27184 [==============================] - 186s - loss: 0.9050 - acc: 0.7028 - val_loss: 1.3996 - val_acc: 0.6136\n",
      "Epoch 26/30\n",
      "27184/27184 [==============================] - 186s - loss: 0.8707 - acc: 0.7095 - val_loss: 1.4890 - val_acc: 0.6196\n",
      "Epoch 27/30\n",
      "27184/27184 [==============================] - 185s - loss: 0.8665 - acc: 0.7084 - val_loss: 2.6342 - val_acc: 0.4569\n",
      "Epoch 28/30\n",
      "27184/27184 [==============================] - 186s - loss: 0.8522 - acc: 0.7131 - val_loss: 1.6207 - val_acc: 0.6110\n",
      "Epoch 29/30\n",
      "27184/27184 [==============================] - 186s - loss: 0.8227 - acc: 0.7216 - val_loss: 2.0933 - val_acc: 0.5615\n",
      "Epoch 30/30\n",
      "27184/27184 [==============================] - 187s - loss: 0.8009 - acc: 0.7274 - val_loss: 1.4950 - val_acc: 0.6431\n"
     ]
    }
   ],
   "source": [
    "# history = model.fit_generator(train_batches, samples_per_epoch=train_batches.nb_sample,\n",
    "#                     validation_data=val_batches, nb_val_samples=val_batches.nb_sample,\n",
    "#                     nb_epoch=30, verbose=True)"
   ]
  },
  {
   "cell_type": "code",
   "execution_count": 21,
   "metadata": {
    "collapsed": true,
    "hidden": true
   },
   "outputs": [],
   "source": [
    "model.save_weights('last_attempt_batch_norm.h5')"
   ]
  },
  {
   "cell_type": "markdown",
   "metadata": {
    "heading_collapsed": true,
    "hidden": true
   },
   "source": [
    "#### Visualize Training"
   ]
  },
  {
   "cell_type": "code",
   "execution_count": 24,
   "metadata": {
    "collapsed": false,
    "hidden": true,
    "scrolled": true
   },
   "outputs": [
    {
     "data": {
      "text/plain": [
       "<seaborn.axisgrid.FacetGrid at 0x7fcf099f2e10>"
      ]
     },
     "execution_count": 24,
     "metadata": {},
     "output_type": "execute_result"
    },
    {
     "data": {
      "image/png": "[encoded data removed]",
      "text/plain": [
       "<matplotlib.figure.Figure at 0x7fcf099f2e80>"
      ]
     },
     "metadata": {},
     "output_type": "display_data"
    }
   ],
   "source": [
    "df = pd.DataFrame(history.history)\n",
    "df['epoch_number'] = range(len(df))\n",
    "sns.lmplot(x=\"epoch_number\", y=\"val_acc\", data=df, fit_reg=False)"
   ]
  },
  {
   "cell_type": "markdown",
   "metadata": {},
   "source": [
    "## Data Augmentation + Batch Normalization + Dropout"
   ]
  },
  {
   "cell_type": "markdown",
   "metadata": {
    "heading_collapsed": true
   },
   "source": [
    "#### Constants"
   ]
  },
  {
   "cell_type": "code",
   "execution_count": 4,
   "metadata": {
    "collapsed": false,
    "hidden": true
   },
   "outputs": [],
   "source": [
    "img_rows, img_cols = 128, 128\n",
    "in_shape = (img_rows, img_cols)\n",
    "batch_size = 64\n",
    "nb_classes = 121\n",
    "mean_px = 0.046544086\n",
    "std_px = 0.15035126"
   ]
  },
  {
   "cell_type": "markdown",
   "metadata": {
    "collapsed": true,
    "heading_collapsed": true
   },
   "source": [
    "#### Batches"
   ]
  },
  {
   "cell_type": "code",
   "execution_count": 5,
   "metadata": {
    "collapsed": true,
    "hidden": true
   },
   "outputs": [],
   "source": [
    "batch_gen = image.ImageDataGenerator(\n",
    "                rotation_range=360,\n",
    "                width_shift_range=0.03,\n",
    "                height_shift_range=0.03,\n",
    "                shear_range=0.10,\n",
    "                zoom_range=0.10,\n",
    "                rescale=1. / 255,\n",
    "                horizontal_flip = True,\n",
    "                vertical_flip = True)\n",
    "\n",
    "valid_gen = image.ImageDataGenerator(\n",
    "#                                      featurewise_center=True,\n",
    "#                                      featurewise_std_normalization=True,\n",
    "                                     rescale=1. / 255\n",
    "                                    )"
   ]
  },
  {
   "cell_type": "code",
   "execution_count": 6,
   "metadata": {
    "collapsed": false,
    "hidden": true
   },
   "outputs": [
    {
     "name": "stdout",
     "output_type": "stream",
     "text": [
      "Found 27184 images belonging to 121 classes.\n",
      "Found 3152 images belonging to 121 classes.\n"
     ]
    }
   ],
   "source": [
    "train_batches = get_batches(train_path, batch_size=batch_size, \n",
    "                            target_size=in_shape, color_mode=\"grayscale\", \n",
    "                            gen=batch_gen)\n",
    "val_batches   = get_batches(valid_path, batch_size=batch_size, \n",
    "                            target_size=in_shape, color_mode=\"grayscale\", \n",
    "                            gen=valid_gen)"
   ]
  },
  {
   "cell_type": "markdown",
   "metadata": {
    "collapsed": true
   },
   "source": [
    "#### Model"
   ]
  },
  {
   "cell_type": "code",
   "execution_count": 7,
   "metadata": {
    "collapsed": true
   },
   "outputs": [],
   "source": [
    "def norm_input(x): return (x-mean_px)/(std_px)"
   ]
  },
  {
   "cell_type": "code",
   "execution_count": 8,
   "metadata": {
    "collapsed": true
   },
   "outputs": [],
   "source": [
    "def get_model():\n",
    "    model = Sequential([\n",
    "        Lambda(norm_input, input_shape=(1, img_rows, img_cols), output_shape=(1, img_rows, img_cols)),\n",
    "        Convolution2D(64,3,3, border_mode='same', activation='relu'),\n",
    "        BatchNormalization(axis=1),\n",
    "        Convolution2D(64,3,3, border_mode='same', activation='relu'),\n",
    "        MaxPooling2D(),\n",
    "        BatchNormalization(axis=1),\n",
    "        Convolution2D(128,3,3, border_mode='same', activation='relu'),\n",
    "        MaxPooling2D(),\n",
    "        BatchNormalization(axis=1),\n",
    "        Convolution2D(256,3,3, border_mode='same', activation='relu'),\n",
    "        MaxPooling2D(),\n",
    "        Flatten(),\n",
    "        BatchNormalization(),\n",
    "        Dense(2048, activation='relu'),\n",
    "        BatchNormalization(),\n",
    "        Dropout(0.2),\n",
    "        Dense(2048, activation='relu'),\n",
    "        BatchNormalization(),\n",
    "        Dropout(0.3),\n",
    "        Dense(2048, activation='relu'),\n",
    "        BatchNormalization(),\n",
    "        Dropout(0.4),\n",
    "        Dense(nb_classes, activation='softmax')\n",
    "        ])\n",
    "    model.compile(Adam(decay=0.01), loss='categorical_crossentropy', metrics=['accuracy'])\n",
    "    return model"
   ]
  },
  {
   "cell_type": "code",
   "execution_count": 9,
   "metadata": {
    "collapsed": false
   },
   "outputs": [
    {
     "name": "stderr",
     "output_type": "stream",
     "text": [
      "/home/nathan/anaconda3/envs/deepLearning/lib/python3.5/site-packages/keras/layers/core.py:622: UserWarning: `output_shape` argument not specified for layer lambda_1 and cannot be automatically inferred with the Theano backend. Defaulting to output shape `(None, 1, 128, 128)` (same as input shape). If the expected output shape is different, specify it via the `output_shape` argument.\n",
      "  .format(self.name, input_shape))\n"
     ]
    }
   ],
   "source": [
    "model = get_model()"
   ]
  },
  {
   "cell_type": "code",
   "execution_count": 10,
   "metadata": {
    "collapsed": false
   },
   "outputs": [
    {
     "name": "stdout",
     "output_type": "stream",
     "text": [
      "____________________________________________________________________________________________________\n",
      "Layer (type)                     Output Shape          Param #     Connected to                     \n",
      "====================================================================================================\n",
      "lambda_1 (Lambda)                (None, 1, 128, 128)   0           lambda_input_1[0][0]             \n",
      "____________________________________________________________________________________________________\n",
      "convolution2d_1 (Convolution2D)  (None, 64, 128, 128)  640         lambda_1[0][0]                   \n",
      "____________________________________________________________________________________________________\n",
      "batchnormalization_1 (BatchNorma (None, 64, 128, 128)  256         convolution2d_1[0][0]            \n",
      "____________________________________________________________________________________________________\n",
      "convolution2d_2 (Convolution2D)  (None, 64, 128, 128)  36928       batchnormalization_1[0][0]       \n",
      "____________________________________________________________________________________________________\n",
      "maxpooling2d_1 (MaxPooling2D)    (None, 64, 64, 64)    0           convolution2d_2[0][0]            \n",
      "____________________________________________________________________________________________________\n",
      "batchnormalization_2 (BatchNorma (None, 64, 64, 64)    256         maxpooling2d_1[0][0]             \n",
      "____________________________________________________________________________________________________\n",
      "convolution2d_3 (Convolution2D)  (None, 128, 64, 64)   73856       batchnormalization_2[0][0]       \n",
      "____________________________________________________________________________________________________\n",
      "maxpooling2d_2 (MaxPooling2D)    (None, 128, 32, 32)   0           convolution2d_3[0][0]            \n",
      "____________________________________________________________________________________________________\n",
      "batchnormalization_3 (BatchNorma (None, 128, 32, 32)   512         maxpooling2d_2[0][0]             \n",
      "____________________________________________________________________________________________________\n",
      "convolution2d_4 (Convolution2D)  (None, 256, 32, 32)   295168      batchnormalization_3[0][0]       \n",
      "____________________________________________________________________________________________________\n",
      "maxpooling2d_3 (MaxPooling2D)    (None, 256, 16, 16)   0           convolution2d_4[0][0]            \n",
      "____________________________________________________________________________________________________\n",
      "flatten_1 (Flatten)              (None, 65536)         0           maxpooling2d_3[0][0]             \n",
      "____________________________________________________________________________________________________\n",
      "batchnormalization_4 (BatchNorma (None, 65536)         262144      flatten_1[0][0]                  \n",
      "____________________________________________________________________________________________________\n",
      "dense_1 (Dense)                  (None, 2048)          134219776   batchnormalization_4[0][0]       \n",
      "____________________________________________________________________________________________________\n",
      "batchnormalization_5 (BatchNorma (None, 2048)          8192        dense_1[0][0]                    \n",
      "____________________________________________________________________________________________________\n",
      "dropout_1 (Dropout)              (None, 2048)          0           batchnormalization_5[0][0]       \n",
      "____________________________________________________________________________________________________\n",
      "dense_2 (Dense)                  (None, 2048)          4196352     dropout_1[0][0]                  \n",
      "____________________________________________________________________________________________________\n",
      "batchnormalization_6 (BatchNorma (None, 2048)          8192        dense_2[0][0]                    \n",
      "____________________________________________________________________________________________________\n",
      "dropout_2 (Dropout)              (None, 2048)          0           batchnormalization_6[0][0]       \n",
      "____________________________________________________________________________________________________\n",
      "dense_3 (Dense)                  (None, 2048)          4196352     dropout_2[0][0]                  \n",
      "____________________________________________________________________________________________________\n",
      "batchnormalization_7 (BatchNorma (None, 2048)          8192        dense_3[0][0]                    \n",
      "____________________________________________________________________________________________________\n",
      "dropout_3 (Dropout)              (None, 2048)          0           batchnormalization_7[0][0]       \n",
      "____________________________________________________________________________________________________\n",
      "dense_4 (Dense)                  (None, 121)           247929      dropout_3[0][0]                  \n",
      "====================================================================================================\n",
      "Total params: 143,554,745\n",
      "Trainable params: 143,410,873\n",
      "Non-trainable params: 143,872\n",
      "____________________________________________________________________________________________________\n"
     ]
    }
   ],
   "source": [
    "model.summary()"
   ]
  },
  {
   "cell_type": "markdown",
   "metadata": {
    "collapsed": true
   },
   "source": [
    "#### Train"
   ]
  },
  {
   "cell_type": "code",
   "execution_count": 11,
   "metadata": {
    "collapsed": true
   },
   "outputs": [],
   "source": [
    "def update_history(old, new):\n",
    "    for key, value in new.history.items():\n",
    "        old.history[key] = (old.history[key] + value)\n",
    "    return old"
   ]
  },
  {
   "cell_type": "code",
   "execution_count": 12,
   "metadata": {
    "collapsed": false
   },
   "outputs": [
    {
     "name": "stdout",
     "output_type": "stream",
     "text": [
      "Epoch 1/30\n",
      "27184/27184 [==============================] - 166s - loss: 3.2261 - acc: 0.2921 - val_loss: 10.9946 - val_acc: 0.0774\n",
      "Epoch 2/30\n",
      "27184/27184 [==============================] - 162s - loss: 2.5152 - acc: 0.3885 - val_loss: 2.7048 - val_acc: 0.3334\n",
      "Epoch 3/30\n",
      "27184/27184 [==============================] - 161s - loss: 2.2480 - acc: 0.4311 - val_loss: 2.9879 - val_acc: 0.3096\n",
      "Epoch 4/30\n",
      "27184/27184 [==============================] - 162s - loss: 2.0946 - acc: 0.4570 - val_loss: 3.5947 - val_acc: 0.1846\n",
      "Epoch 5/30\n",
      "27184/27184 [==============================] - 162s - loss: 1.9956 - acc: 0.4674 - val_loss: 4.2786 - val_acc: 0.2116\n",
      "Epoch 6/30\n",
      "27184/27184 [==============================] - 162s - loss: 1.9011 - acc: 0.4946 - val_loss: 2.7187 - val_acc: 0.3293\n",
      "Epoch 7/30\n",
      "27184/27184 [==============================] - 165s - loss: 1.7281 - acc: 0.5108 - val_loss: 2.6375 - val_acc: 0.4026\n",
      "Epoch 8/30\n",
      "27184/27184 [==============================] - 167s - loss: 1.6054 - acc: 0.5356 - val_loss: 1.6365 - val_acc: 0.5479\n",
      "Epoch 9/30\n",
      "27184/27184 [==============================] - 169s - loss: 1.6049 - acc: 0.5341 - val_loss: 1.5212 - val_acc: 0.5514\n",
      "Epoch 10/30\n",
      "27184/27184 [==============================] - 165s - loss: 1.4954 - acc: 0.5533 - val_loss: 6.1532 - val_acc: 0.3268\n",
      "Epoch 11/30\n",
      "27184/27184 [==============================] - 163s - loss: 1.4536 - acc: 0.5665 - val_loss: 9.0973 - val_acc: 0.1808\n",
      "Epoch 12/30\n",
      "27184/27184 [==============================] - 163s - loss: 1.5090 - acc: 0.5599 - val_loss: 4.8861 - val_acc: 0.0936\n",
      "Epoch 13/30\n",
      "27184/27184 [==============================] - 164s - loss: 1.4613 - acc: 0.5642 - val_loss: 1.6821 - val_acc: 0.5473\n",
      "Epoch 14/30\n",
      "27184/27184 [==============================] - 169s - loss: 1.3722 - acc: 0.5874 - val_loss: 1.5137 - val_acc: 0.5730\n",
      "Epoch 15/30\n",
      "27184/27184 [==============================] - 167s - loss: 1.3570 - acc: 0.5902 - val_loss: 3.1917 - val_acc: 0.3306\n",
      "Epoch 16/30\n",
      "27184/27184 [==============================] - 166s - loss: 1.3321 - acc: 0.5982 - val_loss: 1.9725 - val_acc: 0.5051\n",
      "Epoch 17/30\n",
      "27184/27184 [==============================] - 164s - loss: 1.2658 - acc: 0.6146 - val_loss: 1.3961 - val_acc: 0.6022\n",
      "Epoch 18/30\n",
      "27184/27184 [==============================] - 165s - loss: 1.2621 - acc: 0.6138 - val_loss: 1.6786 - val_acc: 0.5520\n",
      "Epoch 19/30\n",
      "27184/27184 [==============================] - 166s - loss: 1.2451 - acc: 0.6166 - val_loss: 1.4650 - val_acc: 0.6063\n",
      "Epoch 20/30\n",
      "27184/27184 [==============================] - 166s - loss: 1.2118 - acc: 0.6266 - val_loss: 1.3380 - val_acc: 0.6212\n",
      "Epoch 21/30\n",
      "27184/27184 [==============================] - 164s - loss: 1.2039 - acc: 0.6256 - val_loss: 1.6373 - val_acc: 0.5558\n",
      "Epoch 22/30\n",
      "27184/27184 [==============================] - 167s - loss: 1.1852 - acc: 0.6307 - val_loss: 1.9484 - val_acc: 0.5070\n",
      "Epoch 23/30\n",
      "27184/27184 [==============================] - 167s - loss: 1.1590 - acc: 0.6386 - val_loss: 1.3941 - val_acc: 0.6129\n",
      "Epoch 24/30\n",
      "27184/27184 [==============================] - 168s - loss: 1.1505 - acc: 0.6416 - val_loss: 1.2978 - val_acc: 0.6405\n",
      "Epoch 25/30\n",
      "27184/27184 [==============================] - 166s - loss: 1.1386 - acc: 0.6407 - val_loss: 1.8161 - val_acc: 0.5365\n",
      "Epoch 26/30\n",
      "27184/27184 [==============================] - 167s - loss: 1.1259 - acc: 0.6476 - val_loss: 4.8236 - val_acc: 0.2573\n",
      "Epoch 27/30\n",
      "27184/27184 [==============================] - 168s - loss: 1.1228 - acc: 0.6468 - val_loss: 1.4669 - val_acc: 0.6348\n",
      "Epoch 28/30\n",
      "27184/27184 [==============================] - 169s - loss: 1.0979 - acc: 0.6568 - val_loss: 1.4196 - val_acc: 0.6342\n",
      "Epoch 29/30\n",
      "27184/27184 [==============================] - 169s - loss: 1.0829 - acc: 0.6576 - val_loss: 1.3979 - val_acc: 0.6177\n",
      "Epoch 30/30\n",
      "27184/27184 [==============================] - 168s - loss: 1.0897 - acc: 0.6556 - val_loss: 6.0673 - val_acc: 0.2072\n"
     ]
    }
   ],
   "source": [
    "history = model.fit_generator(train_batches, samples_per_epoch=train_batches.nb_sample,\n",
    "                    validation_data=val_batches, nb_val_samples=val_batches.nb_sample,\n",
    "                    nb_epoch=300, verbose=True)"
   ]
  },
  {
   "cell_type": "code",
   "execution_count": 13,
   "metadata": {
    "collapsed": true
   },
   "outputs": [],
   "source": [
    "model.save_weights('last_attempt_dropout.h5')"
   ]
  },
  {
   "cell_type": "code",
   "execution_count": 14,
   "metadata": {
    "collapsed": false
   },
   "outputs": [
    {
     "name": "stdout",
     "output_type": "stream",
     "text": [
      "Epoch 1/5\n",
      "27184/27184 [==============================] - 168s - loss: 1.0591 - acc: 0.6651 - val_loss: 2.6359 - val_acc: 0.4648\n",
      "Epoch 2/5\n",
      "27184/27184 [==============================] - 165s - loss: 1.0710 - acc: 0.6661 - val_loss: 7.6091 - val_acc: 0.1742\n",
      "Epoch 3/5\n",
      "27184/27184 [==============================] - 162s - loss: 1.0390 - acc: 0.6671 - val_loss: 1.4861 - val_acc: 0.6269\n",
      "Epoch 4/5\n",
      "27184/27184 [==============================] - 163s - loss: 1.0293 - acc: 0.6702 - val_loss: 1.4595 - val_acc: 0.6310\n",
      "Epoch 5/5\n",
      "27184/27184 [==============================] - 161s - loss: 1.0618 - acc: 0.6632 - val_loss: 3.1094 - val_acc: 0.4201\n"
     ]
    }
   ],
   "source": [
    "model.optimizer.lr=0.001\n",
    "history_new = model.fit_generator(train_batches, samples_per_epoch=train_batches.nb_sample,\n",
    "                    validation_data=val_batches, nb_val_samples=val_batches.nb_sample,\n",
    "                    nb_epoch=5, verbose=True)\n",
    "history = update_history(history, history_new)"
   ]
  },
  {
   "cell_type": "code",
   "execution_count": 15,
   "metadata": {
    "collapsed": false
   },
   "outputs": [
    {
     "name": "stdout",
     "output_type": "stream",
     "text": [
      "Epoch 1/5\n",
      "27184/27184 [==============================] - 162s - loss: 1.0368 - acc: 0.6707 - val_loss: 1.3661 - val_acc: 0.6301\n",
      "Epoch 2/5\n",
      "27184/27184 [==============================] - 162s - loss: 1.0116 - acc: 0.6753 - val_loss: 1.4064 - val_acc: 0.6666\n",
      "Epoch 3/5\n",
      " 8256/27184 [========>.....................] - ETA: 110s - loss: 0.9586 - acc: 0.6846"
     ]
    },
    {
     "ename": "KeyboardInterrupt",
     "evalue": "",
     "output_type": "error",
     "traceback": [
      "\u001b[0;31m---------------------------------------------------------------------------\u001b[0m",
      "\u001b[0;31mKeyboardInterrupt\u001b[0m                         Traceback (most recent call last)",
      "\u001b[0;32m<ipython-input-15-8a8be00220ec>\u001b[0m in \u001b[0;36m<module>\u001b[0;34m()\u001b[0m\n\u001b[1;32m      2\u001b[0m history_new = model.fit_generator(train_batches, samples_per_epoch=train_batches.nb_sample,\n\u001b[1;32m      3\u001b[0m                     \u001b[0mvalidation_data\u001b[0m\u001b[0;34m=\u001b[0m\u001b[0mval_batches\u001b[0m\u001b[0;34m,\u001b[0m \u001b[0mnb_val_samples\u001b[0m\u001b[0;34m=\u001b[0m\u001b[0mval_batches\u001b[0m\u001b[0;34m.\u001b[0m\u001b[0mnb_sample\u001b[0m\u001b[0;34m,\u001b[0m\u001b[0;34m\u001b[0m\u001b[0m\n\u001b[0;32m----> 4\u001b[0;31m                     nb_epoch=5, verbose=True)\n\u001b[0m\u001b[1;32m      5\u001b[0m \u001b[0mhistory\u001b[0m \u001b[0;34m=\u001b[0m \u001b[0mupdate_history\u001b[0m\u001b[0;34m(\u001b[0m\u001b[0mhistory\u001b[0m\u001b[0;34m,\u001b[0m \u001b[0mhistory_new\u001b[0m\u001b[0;34m)\u001b[0m\u001b[0;34m\u001b[0m\u001b[0m\n",
      "\u001b[0;32m/home/nathan/anaconda3/envs/deepLearning/lib/python3.5/site-packages/keras/models.py\u001b[0m in \u001b[0;36mfit_generator\u001b[0;34m(self, generator, samples_per_epoch, nb_epoch, verbose, callbacks, validation_data, nb_val_samples, class_weight, max_q_size, nb_worker, pickle_safe, initial_epoch, **kwargs)\u001b[0m\n\u001b[1;32m    933\u001b[0m                                         \u001b[0mnb_worker\u001b[0m\u001b[0;34m=\u001b[0m\u001b[0mnb_worker\u001b[0m\u001b[0;34m,\u001b[0m\u001b[0;34m\u001b[0m\u001b[0m\n\u001b[1;32m    934\u001b[0m                                         \u001b[0mpickle_safe\u001b[0m\u001b[0;34m=\u001b[0m\u001b[0mpickle_safe\u001b[0m\u001b[0;34m,\u001b[0m\u001b[0;34m\u001b[0m\u001b[0m\n\u001b[0;32m--> 935\u001b[0;31m                                         initial_epoch=initial_epoch)\n\u001b[0m\u001b[1;32m    936\u001b[0m \u001b[0;34m\u001b[0m\u001b[0m\n\u001b[1;32m    937\u001b[0m     def evaluate_generator(self, generator, val_samples,\n",
      "\u001b[0;32m/home/nathan/anaconda3/envs/deepLearning/lib/python3.5/site-packages/keras/engine/training.py\u001b[0m in \u001b[0;36mfit_generator\u001b[0;34m(self, generator, samples_per_epoch, nb_epoch, verbose, callbacks, validation_data, nb_val_samples, class_weight, max_q_size, nb_worker, pickle_safe, initial_epoch)\u001b[0m\n\u001b[1;32m   1555\u001b[0m                     outs = self.train_on_batch(x, y,\n\u001b[1;32m   1556\u001b[0m                                                \u001b[0msample_weight\u001b[0m\u001b[0;34m=\u001b[0m\u001b[0msample_weight\u001b[0m\u001b[0;34m,\u001b[0m\u001b[0;34m\u001b[0m\u001b[0m\n\u001b[0;32m-> 1557\u001b[0;31m                                                class_weight=class_weight)\n\u001b[0m\u001b[1;32m   1558\u001b[0m \u001b[0;34m\u001b[0m\u001b[0m\n\u001b[1;32m   1559\u001b[0m                     \u001b[0;32mif\u001b[0m \u001b[0;32mnot\u001b[0m \u001b[0misinstance\u001b[0m\u001b[0;34m(\u001b[0m\u001b[0mouts\u001b[0m\u001b[0;34m,\u001b[0m \u001b[0mlist\u001b[0m\u001b[0;34m)\u001b[0m\u001b[0;34m:\u001b[0m\u001b[0;34m\u001b[0m\u001b[0m\n",
      "\u001b[0;32m/home/nathan/anaconda3/envs/deepLearning/lib/python3.5/site-packages/keras/engine/training.py\u001b[0m in \u001b[0;36mtrain_on_batch\u001b[0;34m(self, x, y, sample_weight, class_weight)\u001b[0m\n\u001b[1;32m   1318\u001b[0m             \u001b[0mins\u001b[0m \u001b[0;34m=\u001b[0m \u001b[0mx\u001b[0m \u001b[0;34m+\u001b[0m \u001b[0my\u001b[0m \u001b[0;34m+\u001b[0m \u001b[0msample_weights\u001b[0m\u001b[0;34m\u001b[0m\u001b[0m\n\u001b[1;32m   1319\u001b[0m         \u001b[0mself\u001b[0m\u001b[0;34m.\u001b[0m\u001b[0m_make_train_function\u001b[0m\u001b[0;34m(\u001b[0m\u001b[0;34m)\u001b[0m\u001b[0;34m\u001b[0m\u001b[0m\n\u001b[0;32m-> 1320\u001b[0;31m         \u001b[0moutputs\u001b[0m \u001b[0;34m=\u001b[0m \u001b[0mself\u001b[0m\u001b[0;34m.\u001b[0m\u001b[0mtrain_function\u001b[0m\u001b[0;34m(\u001b[0m\u001b[0mins\u001b[0m\u001b[0;34m)\u001b[0m\u001b[0;34m\u001b[0m\u001b[0m\n\u001b[0m\u001b[1;32m   1321\u001b[0m         \u001b[0;32mif\u001b[0m \u001b[0mlen\u001b[0m\u001b[0;34m(\u001b[0m\u001b[0moutputs\u001b[0m\u001b[0;34m)\u001b[0m \u001b[0;34m==\u001b[0m \u001b[0;36m1\u001b[0m\u001b[0;34m:\u001b[0m\u001b[0;34m\u001b[0m\u001b[0m\n\u001b[1;32m   1322\u001b[0m             \u001b[0;32mreturn\u001b[0m \u001b[0moutputs\u001b[0m\u001b[0;34m[\u001b[0m\u001b[0;36m0\u001b[0m\u001b[0;34m]\u001b[0m\u001b[0;34m\u001b[0m\u001b[0m\n",
      "\u001b[0;32m/home/nathan/anaconda3/envs/deepLearning/lib/python3.5/site-packages/keras/backend/theano_backend.py\u001b[0m in \u001b[0;36m__call__\u001b[0;34m(self, inputs)\u001b[0m\n\u001b[1;32m    957\u001b[0m     \u001b[0;32mdef\u001b[0m \u001b[0m__call__\u001b[0m\u001b[0;34m(\u001b[0m\u001b[0mself\u001b[0m\u001b[0;34m,\u001b[0m \u001b[0minputs\u001b[0m\u001b[0;34m)\u001b[0m\u001b[0;34m:\u001b[0m\u001b[0;34m\u001b[0m\u001b[0m\n\u001b[1;32m    958\u001b[0m         \u001b[0;32massert\u001b[0m \u001b[0misinstance\u001b[0m\u001b[0;34m(\u001b[0m\u001b[0minputs\u001b[0m\u001b[0;34m,\u001b[0m \u001b[0;34m(\u001b[0m\u001b[0mlist\u001b[0m\u001b[0;34m,\u001b[0m \u001b[0mtuple\u001b[0m\u001b[0;34m)\u001b[0m\u001b[0;34m)\u001b[0m\u001b[0;34m\u001b[0m\u001b[0m\n\u001b[0;32m--> 959\u001b[0;31m         \u001b[0;32mreturn\u001b[0m \u001b[0mself\u001b[0m\u001b[0;34m.\u001b[0m\u001b[0mfunction\u001b[0m\u001b[0;34m(\u001b[0m\u001b[0;34m*\u001b[0m\u001b[0minputs\u001b[0m\u001b[0;34m)\u001b[0m\u001b[0;34m\u001b[0m\u001b[0m\n\u001b[0m\u001b[1;32m    960\u001b[0m \u001b[0;34m\u001b[0m\u001b[0m\n\u001b[1;32m    961\u001b[0m \u001b[0;34m\u001b[0m\u001b[0m\n",
      "\u001b[0;32m/home/nathan/anaconda3/envs/deepLearning/lib/python3.5/site-packages/theano/compile/function_module.py\u001b[0m in \u001b[0;36m__call__\u001b[0;34m(self, *args, **kwargs)\u001b[0m\n\u001b[1;32m    857\u001b[0m                                 self.input_storage[i].storage[0])\n\u001b[1;32m    858\u001b[0m \u001b[0;34m\u001b[0m\u001b[0m\n\u001b[0;32m--> 859\u001b[0;31m         \u001b[0;31m# Check if inputs are missing, or if inputs were set more than once, or\u001b[0m\u001b[0;34m\u001b[0m\u001b[0;34m\u001b[0m\u001b[0m\n\u001b[0m\u001b[1;32m    860\u001b[0m         \u001b[0;31m# if we tried to provide inputs that are supposed to be implicit.\u001b[0m\u001b[0;34m\u001b[0m\u001b[0;34m\u001b[0m\u001b[0m\n\u001b[1;32m    861\u001b[0m         \u001b[0;32mif\u001b[0m \u001b[0;32mnot\u001b[0m \u001b[0mself\u001b[0m\u001b[0;34m.\u001b[0m\u001b[0mtrust_input\u001b[0m\u001b[0;34m:\u001b[0m\u001b[0;34m\u001b[0m\u001b[0m\n",
      "\u001b[0;32m/home/nathan/anaconda3/envs/deepLearning/lib/python3.5/site-packages/theano/ifelse.py\u001b[0m in \u001b[0;36mthunk\u001b[0;34m()\u001b[0m\n\u001b[1;32m    235\u001b[0m         \u001b[0mcondition_grad\u001b[0m \u001b[0;34m=\u001b[0m \u001b[0mcondition\u001b[0m\u001b[0;34m.\u001b[0m\u001b[0mzeros_like\u001b[0m\u001b[0;34m(\u001b[0m\u001b[0;34m)\u001b[0m\u001b[0;34m.\u001b[0m\u001b[0mastype\u001b[0m\u001b[0;34m(\u001b[0m\u001b[0mtheano\u001b[0m\u001b[0;34m.\u001b[0m\u001b[0mconfig\u001b[0m\u001b[0;34m.\u001b[0m\u001b[0mfloatX\u001b[0m\u001b[0;34m)\u001b[0m\u001b[0;34m\u001b[0m\u001b[0m\n\u001b[1;32m    236\u001b[0m         return ([condition_grad] +\n\u001b[0;32m--> 237\u001b[0;31m                 \u001b[0mif_true_op\u001b[0m\u001b[0;34m(\u001b[0m\u001b[0;34m*\u001b[0m\u001b[0mif_true\u001b[0m\u001b[0;34m,\u001b[0m \u001b[0;34m**\u001b[0m\u001b[0mdict\u001b[0m\u001b[0;34m(\u001b[0m\u001b[0mreturn_list\u001b[0m\u001b[0;34m=\u001b[0m\u001b[0;32mTrue\u001b[0m\u001b[0;34m)\u001b[0m\u001b[0;34m)\u001b[0m \u001b[0;34m+\u001b[0m\u001b[0;34m\u001b[0m\u001b[0m\n\u001b[0m\u001b[1;32m    238\u001b[0m                 if_false_op(*if_false, **dict(return_list=True)))\n\u001b[1;32m    239\u001b[0m \u001b[0;34m\u001b[0m\u001b[0m\n",
      "\u001b[0;31mKeyboardInterrupt\u001b[0m: "
     ]
    }
   ],
   "source": [
    "model.optimizer.lr=0.0001\n",
    "history_new = model.fit_generator(train_batches, samples_per_epoch=train_batches.nb_sample,\n",
    "                    validation_data=val_batches, nb_val_samples=val_batches.nb_sample,\n",
    "                    nb_epoch=5, verbose=True)\n",
    "history = update_history(history, history_new)"
   ]
  },
  {
   "cell_type": "code",
   "execution_count": null,
   "metadata": {
    "collapsed": true
   },
   "outputs": [],
   "source": [
    "model.optimizer.lr=0.00001\n",
    "history_new = model.fit_generator(train_batches, samples_per_epoch=train_batches.nb_sample,\n",
    "                    validation_data=val_batches, nb_val_samples=val_batches.nb_sample,\n",
    "                    nb_epoch=5, verbose=True)\n",
    "history = update_history(history, history_new)"
   ]
  },
  {
   "cell_type": "code",
   "execution_count": null,
   "metadata": {
    "collapsed": false
   },
   "outputs": [],
   "source": [
    "model.optimizer.lr=0.000001\n",
    "history_new = model.fit_generator(train_batches, samples_per_epoch=train_batches.nb_sample,\n",
    "                    validation_data=val_batches, nb_val_samples=val_batches.nb_sample,\n",
    "                    nb_epoch=5, verbose=True)\n",
    "history = update_history(history, history_new)"
   ]
  },
  {
   "cell_type": "code",
   "execution_count": null,
   "metadata": {
    "collapsed": false
   },
   "outputs": [],
   "source": [
    "model.optimizer.lr=0.0000001\n",
    "history_new = model.fit_generator(train_batches, samples_per_epoch=train_batches.nb_sample,\n",
    "                    validation_data=val_batches, nb_val_samples=val_batches.nb_sample,\n",
    "                    nb_epoch=5, verbose=True)\n",
    "history = update_history(history, history_new)"
   ]
  },
  {
   "cell_type": "markdown",
   "metadata": {
    "heading_collapsed": true
   },
   "source": [
    "#### Visualize Training"
   ]
  },
  {
   "cell_type": "code",
   "execution_count": null,
   "metadata": {
    "collapsed": false,
    "hidden": true,
    "scrolled": true
   },
   "outputs": [],
   "source": [
    "df = pd.DataFrame(history.history)\n",
    "df['epoch_number'] = range(len(df))\n",
    "sns.lmplot(x=\"epoch_number\", y=\"val_acc\", data=df, fit_reg=False)"
   ]
  },
  {
   "cell_type": "markdown",
   "metadata": {
    "heading_collapsed": true
   },
   "source": [
    "#### Try out different learning rates below"
   ]
  },
  {
   "cell_type": "markdown",
   "metadata": {
    "hidden": true
   },
   "source": [
    "So far it looks like the validation accuracy is jumping around like crazy while the training accuracy keeps going up. This can be from two possible reasons:\n",
    "*  Learning rate is too high\n",
    "*  Need dropout (overfitting really hard)"
   ]
  },
  {
   "cell_type": "code",
   "execution_count": 13,
   "metadata": {
    "collapsed": true,
    "hidden": true
   },
   "outputs": [],
   "source": [
    "# model.save_weights('keep_lowering_learning_rate.h5')"
   ]
  },
  {
   "cell_type": "code",
   "execution_count": 14,
   "metadata": {
    "collapsed": true,
    "hidden": true
   },
   "outputs": [],
   "source": [
    "model.load_weights('keep_lowering_learning_rate.h5')"
   ]
  },
  {
   "cell_type": "code",
   "execution_count": 15,
   "metadata": {
    "collapsed": false,
    "hidden": true
   },
   "outputs": [
    {
     "name": "stdout",
     "output_type": "stream",
     "text": [
      "Epoch 1/3\n",
      "27184/27184 [==============================] - 184s - loss: 0.5837 - acc: 0.7977 - val_loss: 1.3196 - val_acc: 0.6878\n",
      "Epoch 2/3\n",
      "27184/27184 [==============================] - 185s - loss: 0.5793 - acc: 0.8005 - val_loss: 1.3142 - val_acc: 0.6859\n",
      "Epoch 3/3\n",
      "27184/27184 [==============================] - 186s - loss: 0.5706 - acc: 0.8005 - val_loss: 1.3022 - val_acc: 0.6938\n"
     ]
    }
   ],
   "source": [
    "model.optimizer.lr=0.000001\n",
    "history2 = model.fit_generator(train_batches, samples_per_epoch=train_batches.nb_sample,\n",
    "                    validation_data=val_batches, nb_val_samples=val_batches.nb_sample,\n",
    "                    nb_epoch=3, verbose=True)"
   ]
  },
  {
   "cell_type": "code",
   "execution_count": 22,
   "metadata": {
    "collapsed": false,
    "hidden": true,
    "scrolled": true
   },
   "outputs": [
    {
     "data": {
      "text/plain": [
       "<seaborn.axisgrid.FacetGrid at 0x7f4cb11e57b8>"
      ]
     },
     "execution_count": 22,
     "metadata": {},
     "output_type": "execute_result"
    },
    {
     "data": {
      "image/png": "[encoded data removed]",
      "text/plain": [
       "<matplotlib.figure.Figure at 0x7f4cb11e5828>"
      ]
     },
     "metadata": {},
     "output_type": "display_data"
    }
   ],
   "source": [
    "df = pd.DataFrame(history.history)\n",
    "df['epoch_number'] = range(len(df))\n",
    "sns.lmplot(x=\"epoch_number\", y=\"val_acc\", data=df, fit_reg=False)"
   ]
  },
  {
   "cell_type": "markdown",
   "metadata": {
    "heading_collapsed": true
   },
   "source": [
    "## Ensembling "
   ]
  }
 ],
 "metadata": {
  "anaconda-cloud": {},
  "kernelspec": {
   "display_name": "Python [conda env:deepLearning]",
   "language": "python",
   "name": "conda-env-deepLearning-py"
  },
  "language_info": {
   "codemirror_mode": {
    "name": "ipython",
    "version": 3
   },
   "file_extension": ".py",
   "mimetype": "text/x-python",
   "name": "python",
   "nbconvert_exporter": "python",
   "pygments_lexer": "ipython3",
   "version": "3.5.2"
  }
 },
 "nbformat": 4,
 "nbformat_minor": 1
}
