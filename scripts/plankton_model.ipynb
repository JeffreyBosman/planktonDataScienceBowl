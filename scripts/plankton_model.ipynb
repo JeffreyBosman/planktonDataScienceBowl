{
 "cells": [
  {
   "cell_type": "markdown",
   "metadata": {},
   "source": [
    "# National Data Science Bowl - Plankton\n",
    "\n",
    "## Action Plan\n",
    "\n",
    "* Make overfitting model\n",
    "* Data augmentation\n",
    "* Batch normalization\n",
    "* Dropout\n",
    "* Ensembling"
   ]
  },
  {
   "cell_type": "markdown",
   "metadata": {
    "heading_collapsed": true
   },
   "source": [
    "## Imports and Directories"
   ]
  },
  {
   "cell_type": "code",
   "execution_count": 1,
   "metadata": {
    "collapsed": true,
    "hidden": true
   },
   "outputs": [],
   "source": [
    "#Create references to important directories we will use over and over\n",
    "import os, sys\n",
    "current_dir = os.getcwd()\n",
    "SCRIPTS_HOME_DIR = current_dir\n",
    "DATA_HOME_DIR = current_dir+'/data'"
   ]
  },
  {
   "cell_type": "code",
   "execution_count": 2,
   "metadata": {
    "collapsed": false,
    "hidden": true
   },
   "outputs": [
    {
     "name": "stderr",
     "output_type": "stream",
     "text": [
      "Using gpu device 0: GeForce GTX 1070 (CNMeM is enabled with initial size: 90.0% of memory, cuDNN 5105)\n",
      "/home/nathan/anaconda3/envs/deepLearning/lib/python3.5/site-packages/theano/sandbox/cuda/__init__.py:600: UserWarning: Your cuDNN version is more recent than the one Theano officially supports. If you see any problems, try updating Theano or downgrading cuDNN to version 5.\n",
      "  warnings.warn(warn)\n",
      "Using Theano backend.\n"
     ]
    }
   ],
   "source": [
    "#import modules\n",
    "from utils import *\n",
    "%matplotlib inline"
   ]
  },
  {
   "cell_type": "code",
   "execution_count": 3,
   "metadata": {
    "collapsed": false,
    "hidden": true
   },
   "outputs": [
    {
     "name": "stdout",
     "output_type": "stream",
     "text": [
      "/home/nathan/git/planktonDataScienceBowl/scripts/data\n"
     ]
    }
   ],
   "source": [
    "%cd $DATA_HOME_DIR\n",
    "\n",
    "#Set path to sample/ path if desired\n",
    "path = DATA_HOME_DIR #'/sample/'\n",
    "test_path = DATA_HOME_DIR + '/test/' #We use all the test data\n",
    "results_path=DATA_HOME_DIR + '/results/'\n",
    "train_path=path + '/train/'\n",
    "valid_path=path + '/valid/'"
   ]
  },
  {
   "cell_type": "markdown",
   "metadata": {
    "heading_collapsed": true
   },
   "source": [
    "## VGG Like Model"
   ]
  },
  {
   "cell_type": "markdown",
   "metadata": {
    "hidden": true
   },
   "source": [
    "#### Constants"
   ]
  },
  {
   "cell_type": "code",
   "execution_count": 4,
   "metadata": {
    "collapsed": true,
    "hidden": true
   },
   "outputs": [],
   "source": [
    "img_rows, img_cols = 128, 128\n",
    "in_shape = (img_rows, img_cols)\n",
    "batch_size = 64\n",
    "nb_classes = 121"
   ]
  },
  {
   "cell_type": "markdown",
   "metadata": {
    "collapsed": true,
    "hidden": true
   },
   "source": [
    "#### Batches"
   ]
  },
  {
   "cell_type": "code",
   "execution_count": 5,
   "metadata": {
    "collapsed": true,
    "hidden": true
   },
   "outputs": [],
   "source": [
    "gen = image.ImageDataGenerator(rescale=1. / 255)\n",
    "# gen = image.ImageDataGenerator()"
   ]
  },
  {
   "cell_type": "code",
   "execution_count": 6,
   "metadata": {
    "collapsed": false,
    "hidden": true
   },
   "outputs": [
    {
     "name": "stdout",
     "output_type": "stream",
     "text": [
      "Found 27184 images belonging to 121 classes.\n",
      "Found 3152 images belonging to 121 classes.\n"
     ]
    }
   ],
   "source": [
    "train_batches = get_batches(train_path, batch_size=batch_size, \n",
    "                            target_size=in_shape, color_mode=\"grayscale\", \n",
    "                            gen=gen)\n",
    "val_batches   = get_batches(valid_path, batch_size=batch_size, \n",
    "                            target_size=in_shape, color_mode=\"grayscale\", \n",
    "                            gen=gen)"
   ]
  },
  {
   "cell_type": "markdown",
   "metadata": {
    "collapsed": true,
    "hidden": true
   },
   "source": [
    "#### Model"
   ]
  },
  {
   "cell_type": "code",
   "execution_count": 7,
   "metadata": {
    "collapsed": true,
    "hidden": true
   },
   "outputs": [],
   "source": [
    "def get_model():\n",
    "    model = Sequential([\n",
    "        Convolution2D(64,3,3, border_mode='same', activation='relu', input_shape=(1, img_rows, img_cols)),\n",
    "        Convolution2D(64,3,3, border_mode='same', activation='relu'),\n",
    "        MaxPooling2D(),\n",
    "        Convolution2D(128,3,3, border_mode='same', activation='relu'),\n",
    "        MaxPooling2D(),\n",
    "        Convolution2D(256,3,3, border_mode='same', activation='relu'),\n",
    "        MaxPooling2D(),\n",
    "        Flatten(),\n",
    "        Dense(2048, activation='relu'),\n",
    "        Dense(2048, activation='relu'),\n",
    "        Dense(2048, activation='relu'),\n",
    "        Dense(nb_classes, activation='softmax')\n",
    "        ])\n",
    "    model.compile(Adam(), loss='categorical_crossentropy', metrics=['accuracy'])\n",
    "    return model"
   ]
  },
  {
   "cell_type": "code",
   "execution_count": 8,
   "metadata": {
    "collapsed": false,
    "hidden": true
   },
   "outputs": [],
   "source": [
    "model = get_model()"
   ]
  },
  {
   "cell_type": "code",
   "execution_count": null,
   "metadata": {
    "collapsed": false,
    "hidden": true,
    "scrolled": true
   },
   "outputs": [
    {
     "name": "stdout",
     "output_type": "stream",
     "text": [
      "____________________________________________________________________________________________________\n",
      "Layer (type)                     Output Shape          Param #     Connected to                     \n",
      "====================================================================================================\n",
      "convolution2d_1 (Convolution2D)  (None, 64, 128, 128)  640         convolution2d_input_1[0][0]      \n",
      "____________________________________________________________________________________________________\n",
      "convolution2d_2 (Convolution2D)  (None, 64, 128, 128)  36928       convolution2d_1[0][0]            \n",
      "____________________________________________________________________________________________________\n",
      "maxpooling2d_1 (MaxPooling2D)    (None, 64, 64, 64)    0           convolution2d_2[0][0]            \n",
      "____________________________________________________________________________________________________\n",
      "convolution2d_3 (Convolution2D)  (None, 128, 64, 64)   73856       maxpooling2d_1[0][0]             \n",
      "____________________________________________________________________________________________________\n",
      "maxpooling2d_2 (MaxPooling2D)    (None, 128, 32, 32)   0           convolution2d_3[0][0]            \n",
      "____________________________________________________________________________________________________\n",
      "convolution2d_4 (Convolution2D)  (None, 256, 32, 32)   295168      maxpooling2d_2[0][0]             \n",
      "____________________________________________________________________________________________________\n",
      "maxpooling2d_3 (MaxPooling2D)    (None, 256, 16, 16)   0           convolution2d_4[0][0]            \n",
      "____________________________________________________________________________________________________\n",
      "flatten_1 (Flatten)              (None, 65536)         0           maxpooling2d_3[0][0]             \n",
      "____________________________________________________________________________________________________\n",
      "dense_1 (Dense)                  (None, 2048)          134219776   flatten_1[0][0]                  \n",
      "____________________________________________________________________________________________________\n",
      "dense_2 (Dense)                  (None, 2048)          4196352     dense_1[0][0]                    \n",
      "____________________________________________________________________________________________________\n",
      "dense_3 (Dense)                  (None, 2048)          4196352     dense_2[0][0]                    \n",
      "____________________________________________________________________________________________________\n",
      "dense_4 (Dense)                  (None, 121)           247929      dense_3[0][0]                    \n",
      "====================================================================================================\n",
      "Total params: 143,267,001\n",
      "Trainable params: 143,267,001\n",
      "Non-trainable params: 0\n",
      "____________________________________________________________________________________________________\n"
     ]
    }
   ],
   "source": [
    "model.summary()"
   ]
  },
  {
   "cell_type": "markdown",
   "metadata": {
    "collapsed": true,
    "hidden": true
   },
   "source": [
    "#### Train"
   ]
  },
  {
   "cell_type": "code",
   "execution_count": null,
   "metadata": {
    "collapsed": false,
    "hidden": true
   },
   "outputs": [
    {
     "name": "stdout",
     "output_type": "stream",
     "text": [
      "Epoch 1/5\n",
      "27184/27184 [==============================] - 115s - loss: 2.5802 - acc: 0.3409 - val_loss: 1.9055 - val_acc: 0.4753\n",
      "Epoch 2/5\n",
      "11520/27184 [===========>..................] - ETA: 64s - loss: 1.7021 - acc: 0.5028"
     ]
    }
   ],
   "source": [
    "model.fit_generator(train_batches, samples_per_epoch=train_batches.nb_sample,\n",
    "                    nb_epoch=5,\n",
    "                    validation_data=val_batches,\n",
    "                    nb_val_samples=val_batches.nb_sample,\n",
    "                    verbose=True)"
   ]
  },
  {
   "cell_type": "code",
   "execution_count": null,
   "metadata": {
    "collapsed": false,
    "hidden": true
   },
   "outputs": [],
   "source": [
    "model.optimizer.lr=0.1\n",
    "model.fit_generator(train_batches, samples_per_epoch=train_batches.nb_sample,\n",
    "                    nb_epoch=1,\n",
    "                    validation_data=val_batches, nb_val_samples=val_batches.nb_sample,\n",
    "                    verbose=True)"
   ]
  },
  {
   "cell_type": "code",
   "execution_count": null,
   "metadata": {
    "collapsed": false,
    "hidden": true
   },
   "outputs": [],
   "source": [
    "model.optimizer.lr=0.01\n",
    "model.fit_generator(train_batches, samples_per_epoch=train_batches.nb_sample,\n",
    "                    nb_epoch=4,\n",
    "                    validation_data=val_batches, nb_val_samples=val_batches.nb_sample,\n",
    "                    verbose=True)"
   ]
  },
  {
   "cell_type": "markdown",
   "metadata": {},
   "source": [
    "## Data Augmentation"
   ]
  },
  {
   "cell_type": "markdown",
   "metadata": {},
   "source": [
    "#### Constants"
   ]
  },
  {
   "cell_type": "code",
   "execution_count": 4,
   "metadata": {
    "collapsed": true
   },
   "outputs": [],
   "source": [
    "img_rows, img_cols = 128, 128\n",
    "in_shape = (img_rows, img_cols)\n",
    "batch_size = 64\n",
    "nb_classes = 121"
   ]
  },
  {
   "cell_type": "markdown",
   "metadata": {
    "collapsed": true
   },
   "source": [
    "#### Batches"
   ]
  },
  {
   "cell_type": "code",
   "execution_count": 7,
   "metadata": {
    "collapsed": true
   },
   "outputs": [],
   "source": [
    "gen = image.ImageDataGenerator(\n",
    "                rotation_range=360,\n",
    "                width_shift_range=0.03,\n",
    "                height_shift_range=0.03,\n",
    "                shear_range=0.10,\n",
    "                zoom_range=0.10,\n",
    "                rescale=1. / 255,\n",
    "                horizontal_flip)"
   ]
  },
  {
   "cell_type": "code",
   "execution_count": 8,
   "metadata": {
    "collapsed": false
   },
   "outputs": [
    {
     "name": "stdout",
     "output_type": "stream",
     "text": [
      "Found 27184 images belonging to 121 classes.\n",
      "Found 3152 images belonging to 121 classes.\n"
     ]
    }
   ],
   "source": [
    "train_batches = get_batches(train_path, batch_size=batch_size, \n",
    "                            target_size=in_shape, color_mode=\"grayscale\", \n",
    "                            gen=gen)\n",
    "val_batches   = get_batches(valid_path, batch_size=batch_size, \n",
    "                            target_size=in_shape, color_mode=\"grayscale\", \n",
    "                            gen=gen)"
   ]
  },
  {
   "cell_type": "markdown",
   "metadata": {
    "collapsed": true
   },
   "source": [
    "#### Model"
   ]
  },
  {
   "cell_type": "code",
   "execution_count": 9,
   "metadata": {
    "collapsed": true
   },
   "outputs": [],
   "source": [
    "def get_model():\n",
    "    model = Sequential([\n",
    "        Convolution2D(64,3,3, border_mode='same', activation='relu', input_shape=(1, img_rows, img_cols)),\n",
    "        Convolution2D(64,3,3, border_mode='same', activation='relu'),\n",
    "        MaxPooling2D(),\n",
    "        Convolution2D(128,3,3, border_mode='same', activation='relu'),\n",
    "        MaxPooling2D(),\n",
    "        Convolution2D(256,3,3, border_mode='same', activation='relu'),\n",
    "        MaxPooling2D(),\n",
    "        Flatten(),\n",
    "        Dense(2048, activation='relu'),\n",
    "        Dense(2048, activation='relu'),\n",
    "        Dense(2048, activation='relu'),\n",
    "        Dense(nb_classes, activation='softmax')\n",
    "        ])\n",
    "    model.compile(Adam(), loss='categorical_crossentropy', metrics=['accuracy'])\n",
    "    return model"
   ]
  },
  {
   "cell_type": "code",
   "execution_count": 10,
   "metadata": {
    "collapsed": false
   },
   "outputs": [],
   "source": [
    "model = get_model()"
   ]
  },
  {
   "cell_type": "code",
   "execution_count": 11,
   "metadata": {
    "collapsed": false,
    "scrolled": true
   },
   "outputs": [
    {
     "name": "stdout",
     "output_type": "stream",
     "text": [
      "____________________________________________________________________________________________________\n",
      "Layer (type)                     Output Shape          Param #     Connected to                     \n",
      "====================================================================================================\n",
      "convolution2d_1 (Convolution2D)  (None, 64, 128, 128)  640         convolution2d_input_1[0][0]      \n",
      "____________________________________________________________________________________________________\n",
      "convolution2d_2 (Convolution2D)  (None, 64, 128, 128)  36928       convolution2d_1[0][0]            \n",
      "____________________________________________________________________________________________________\n",
      "maxpooling2d_1 (MaxPooling2D)    (None, 64, 64, 64)    0           convolution2d_2[0][0]            \n",
      "____________________________________________________________________________________________________\n",
      "convolution2d_3 (Convolution2D)  (None, 128, 64, 64)   73856       maxpooling2d_1[0][0]             \n",
      "____________________________________________________________________________________________________\n",
      "maxpooling2d_2 (MaxPooling2D)    (None, 128, 32, 32)   0           convolution2d_3[0][0]            \n",
      "____________________________________________________________________________________________________\n",
      "convolution2d_4 (Convolution2D)  (None, 256, 32, 32)   295168      maxpooling2d_2[0][0]             \n",
      "____________________________________________________________________________________________________\n",
      "maxpooling2d_3 (MaxPooling2D)    (None, 256, 16, 16)   0           convolution2d_4[0][0]            \n",
      "____________________________________________________________________________________________________\n",
      "flatten_1 (Flatten)              (None, 65536)         0           maxpooling2d_3[0][0]             \n",
      "____________________________________________________________________________________________________\n",
      "dense_1 (Dense)                  (None, 2048)          134219776   flatten_1[0][0]                  \n",
      "____________________________________________________________________________________________________\n",
      "dense_2 (Dense)                  (None, 2048)          4196352     dense_1[0][0]                    \n",
      "____________________________________________________________________________________________________\n",
      "dense_3 (Dense)                  (None, 2048)          4196352     dense_2[0][0]                    \n",
      "____________________________________________________________________________________________________\n",
      "dense_4 (Dense)                  (None, 121)           247929      dense_3[0][0]                    \n",
      "====================================================================================================\n",
      "Total params: 143,267,001\n",
      "Trainable params: 143,267,001\n",
      "Non-trainable params: 0\n",
      "____________________________________________________________________________________________________\n"
     ]
    }
   ],
   "source": [
    "model.summary()"
   ]
  },
  {
   "cell_type": "markdown",
   "metadata": {
    "collapsed": true
   },
   "source": [
    "#### Train"
   ]
  },
  {
   "cell_type": "code",
   "execution_count": 12,
   "metadata": {
    "collapsed": false
   },
   "outputs": [
    {
     "name": "stdout",
     "output_type": "stream",
     "text": [
      "Epoch 1/100\n",
      "27184/27184 [==============================] - 113s - loss: 2.8695 - acc: 0.2748 - val_loss: 2.2554 - val_acc: 0.3832\n",
      "Epoch 2/100\n",
      "27184/27184 [==============================] - 114s - loss: 2.0148 - acc: 0.4266 - val_loss: 1.9927 - val_acc: 0.4337\n",
      "Epoch 3/100\n",
      "27184/27184 [==============================] - 114s - loss: 1.7433 - acc: 0.4886 - val_loss: 1.7596 - val_acc: 0.4864\n",
      "Epoch 4/100\n",
      "27184/27184 [==============================] - 114s - loss: 1.5812 - acc: 0.5284 - val_loss: 1.5786 - val_acc: 0.5454\n",
      "Epoch 5/100\n",
      "27184/27184 [==============================] - 114s - loss: 1.4697 - acc: 0.5547 - val_loss: 1.5721 - val_acc: 0.5381\n",
      "Epoch 6/100\n",
      "27184/27184 [==============================] - 113s - loss: 1.3841 - acc: 0.5704 - val_loss: 1.5037 - val_acc: 0.5635\n",
      "Epoch 7/100\n",
      "27184/27184 [==============================] - 113s - loss: 1.3204 - acc: 0.5891 - val_loss: 1.5012 - val_acc: 0.5663\n",
      "Epoch 8/100\n",
      "27184/27184 [==============================] - 113s - loss: 1.2670 - acc: 0.6025 - val_loss: 1.3790 - val_acc: 0.6044\n",
      "Epoch 9/100\n",
      "27184/27184 [==============================] - 113s - loss: 1.2069 - acc: 0.6187 - val_loss: 1.3982 - val_acc: 0.5920\n",
      "Epoch 10/100\n",
      "27184/27184 [==============================] - 113s - loss: 1.1690 - acc: 0.6297 - val_loss: 1.2411 - val_acc: 0.6272\n",
      "Epoch 11/100\n",
      "27184/27184 [==============================] - 113s - loss: 1.1327 - acc: 0.6343 - val_loss: 1.2948 - val_acc: 0.6091\n",
      "Epoch 12/100\n",
      "27184/27184 [==============================] - 113s - loss: 1.0987 - acc: 0.6455 - val_loss: 1.3366 - val_acc: 0.6104\n",
      "Epoch 13/100\n",
      "27184/27184 [==============================] - 113s - loss: 1.0572 - acc: 0.6563 - val_loss: 1.2516 - val_acc: 0.6247\n",
      "Epoch 14/100\n",
      "27184/27184 [==============================] - 113s - loss: 1.0241 - acc: 0.6643 - val_loss: 1.2741 - val_acc: 0.6352\n",
      "Epoch 15/100\n",
      "27184/27184 [==============================] - 113s - loss: 0.9955 - acc: 0.6723 - val_loss: 1.3008 - val_acc: 0.6218\n",
      "Epoch 16/100\n",
      "27184/27184 [==============================] - 113s - loss: 0.9715 - acc: 0.6740 - val_loss: 1.2723 - val_acc: 0.6298\n",
      "Epoch 17/100\n",
      "27184/27184 [==============================] - 113s - loss: 0.9520 - acc: 0.6857 - val_loss: 1.2502 - val_acc: 0.6412\n",
      "Epoch 18/100\n",
      "27184/27184 [==============================] - 113s - loss: 0.9193 - acc: 0.6928 - val_loss: 1.2323 - val_acc: 0.6532\n",
      "Epoch 19/100\n",
      "27184/27184 [==============================] - 113s - loss: 0.9009 - acc: 0.6963 - val_loss: 1.2166 - val_acc: 0.6440\n",
      "Epoch 20/100\n",
      "27184/27184 [==============================] - 113s - loss: 0.8685 - acc: 0.7056 - val_loss: 1.2363 - val_acc: 0.6421\n",
      "Epoch 21/100\n",
      "27184/27184 [==============================] - 113s - loss: 0.8543 - acc: 0.7096 - val_loss: 1.2678 - val_acc: 0.6526\n",
      "Epoch 22/100\n",
      "27184/27184 [==============================] - 113s - loss: 0.8270 - acc: 0.7186 - val_loss: 1.2743 - val_acc: 0.6526\n",
      "Epoch 23/100\n",
      "27184/27184 [==============================] - 113s - loss: 0.8163 - acc: 0.7212 - val_loss: 1.1795 - val_acc: 0.6681\n",
      "Epoch 24/100\n",
      "27184/27184 [==============================] - 113s - loss: 0.7961 - acc: 0.7238 - val_loss: 1.2673 - val_acc: 0.6475\n",
      "Epoch 25/100\n",
      "27184/27184 [==============================] - 113s - loss: 0.7782 - acc: 0.7327 - val_loss: 1.2365 - val_acc: 0.6580\n",
      "Epoch 26/100\n",
      "27184/27184 [==============================] - 113s - loss: 0.7563 - acc: 0.7374 - val_loss: 1.2195 - val_acc: 0.6688\n",
      "Epoch 27/100\n",
      "27184/27184 [==============================] - 113s - loss: 0.7350 - acc: 0.7457 - val_loss: 1.3126 - val_acc: 0.6605\n",
      "Epoch 28/100\n",
      "27184/27184 [==============================] - 113s - loss: 0.7226 - acc: 0.7466 - val_loss: 1.2537 - val_acc: 0.6605\n",
      "Epoch 29/100\n",
      "27184/27184 [==============================] - 113s - loss: 0.7073 - acc: 0.7545 - val_loss: 1.2222 - val_acc: 0.6602\n",
      "Epoch 30/100\n",
      "27184/27184 [==============================] - 113s - loss: 0.6905 - acc: 0.7570 - val_loss: 1.2956 - val_acc: 0.6536\n",
      "Epoch 31/100\n",
      "27184/27184 [==============================] - 113s - loss: 0.6754 - acc: 0.7609 - val_loss: 1.3239 - val_acc: 0.6624\n",
      "Epoch 32/100\n",
      "27184/27184 [==============================] - 113s - loss: 0.6779 - acc: 0.7582 - val_loss: 1.3362 - val_acc: 0.6529\n",
      "Epoch 33/100\n",
      "27184/27184 [==============================] - 113s - loss: 0.6618 - acc: 0.7658 - val_loss: 1.3009 - val_acc: 0.6618\n",
      "Epoch 34/100\n",
      "27184/27184 [==============================] - 113s - loss: 0.6384 - acc: 0.7710 - val_loss: 1.2976 - val_acc: 0.6596\n",
      "Epoch 35/100\n",
      "27184/27184 [==============================] - 113s - loss: 0.6277 - acc: 0.7768 - val_loss: 1.3300 - val_acc: 0.6520\n",
      "Epoch 36/100\n",
      "27184/27184 [==============================] - 113s - loss: 0.6274 - acc: 0.7793 - val_loss: 1.3690 - val_acc: 0.6701\n",
      "Epoch 37/100\n",
      "27184/27184 [==============================] - 113s - loss: 0.6023 - acc: 0.7848 - val_loss: 1.3128 - val_acc: 0.6691\n",
      "Epoch 38/100\n",
      "27184/27184 [==============================] - 113s - loss: 0.5908 - acc: 0.7882 - val_loss: 1.4168 - val_acc: 0.6494\n",
      "Epoch 39/100\n",
      "27184/27184 [==============================] - 113s - loss: 0.5964 - acc: 0.7842 - val_loss: 1.3043 - val_acc: 0.6675\n",
      "Epoch 40/100\n",
      "27184/27184 [==============================] - 113s - loss: 0.5746 - acc: 0.7932 - val_loss: 1.4004 - val_acc: 0.6681\n",
      "Epoch 41/100\n",
      "27184/27184 [==============================] - 113s - loss: 0.5612 - acc: 0.7986 - val_loss: 1.3934 - val_acc: 0.6526\n",
      "Epoch 42/100\n",
      "27184/27184 [==============================] - 113s - loss: 0.5481 - acc: 0.8041 - val_loss: 1.4616 - val_acc: 0.6478\n",
      "Epoch 43/100\n",
      "27184/27184 [==============================] - 113s - loss: 0.5512 - acc: 0.8030 - val_loss: 1.3885 - val_acc: 0.6631\n",
      "Epoch 44/100\n",
      "27184/27184 [==============================] - 113s - loss: 0.5390 - acc: 0.8054 - val_loss: 1.4287 - val_acc: 0.6745\n",
      "Epoch 45/100\n",
      "27184/27184 [==============================] - 113s - loss: 0.5277 - acc: 0.8087 - val_loss: 1.4484 - val_acc: 0.6602\n",
      "Epoch 46/100\n",
      "27184/27184 [==============================] - 113s - loss: 0.5282 - acc: 0.8098 - val_loss: 1.4553 - val_acc: 0.6605\n",
      "Epoch 47/100\n",
      "27184/27184 [==============================] - 113s - loss: 0.5220 - acc: 0.8136 - val_loss: 1.4805 - val_acc: 0.6567\n",
      "Epoch 48/100\n",
      "27184/27184 [==============================] - 113s - loss: 0.5040 - acc: 0.8185 - val_loss: 1.3755 - val_acc: 0.6685\n",
      "Epoch 49/100\n",
      "27184/27184 [==============================] - 113s - loss: 0.5018 - acc: 0.8193 - val_loss: 1.4663 - val_acc: 0.6516\n",
      "Epoch 50/100\n",
      "27184/27184 [==============================] - 113s - loss: 0.4963 - acc: 0.8206 - val_loss: 1.3758 - val_acc: 0.6643\n",
      "Epoch 51/100\n",
      "27184/27184 [==============================] - 113s - loss: 0.4935 - acc: 0.8221 - val_loss: 1.5326 - val_acc: 0.6536\n",
      "Epoch 52/100\n",
      "27184/27184 [==============================] - 113s - loss: 0.4889 - acc: 0.8231 - val_loss: 1.4355 - val_acc: 0.6672\n",
      "Epoch 53/100\n",
      "27184/27184 [==============================] - 113s - loss: 0.4683 - acc: 0.8318 - val_loss: 1.5755 - val_acc: 0.6491\n",
      "Epoch 54/100\n",
      "27184/27184 [==============================] - 113s - loss: 0.4670 - acc: 0.8303 - val_loss: 1.4939 - val_acc: 0.6669\n",
      "Epoch 55/100\n",
      "27184/27184 [==============================] - 113s - loss: 0.4621 - acc: 0.8324 - val_loss: 1.5083 - val_acc: 0.6463\n",
      "Epoch 56/100\n",
      "27184/27184 [==============================] - 113s - loss: 0.4599 - acc: 0.8318 - val_loss: 1.4714 - val_acc: 0.6675\n",
      "Epoch 57/100\n",
      "27184/27184 [==============================] - 113s - loss: 0.4571 - acc: 0.8363 - val_loss: 1.5425 - val_acc: 0.6570\n",
      "Epoch 58/100\n",
      "27184/27184 [==============================] - 113s - loss: 0.4524 - acc: 0.8385 - val_loss: 1.5368 - val_acc: 0.6688\n",
      "Epoch 59/100\n",
      "27184/27184 [==============================] - 113s - loss: 0.4344 - acc: 0.8436 - val_loss: 1.5617 - val_acc: 0.6688\n",
      "Epoch 60/100\n",
      "27184/27184 [==============================] - 113s - loss: 0.4415 - acc: 0.8418 - val_loss: 1.5886 - val_acc: 0.6545\n",
      "Epoch 61/100\n",
      "27184/27184 [==============================] - 113s - loss: 0.4378 - acc: 0.8425 - val_loss: 1.6207 - val_acc: 0.6475\n",
      "Epoch 62/100\n",
      "27184/27184 [==============================] - 113s - loss: 0.4423 - acc: 0.8397 - val_loss: 1.5766 - val_acc: 0.6631\n",
      "Epoch 63/100\n",
      "27184/27184 [==============================] - 113s - loss: 0.4267 - acc: 0.8453 - val_loss: 1.5258 - val_acc: 0.6656\n",
      "Epoch 64/100\n",
      "27184/27184 [==============================] - 113s - loss: 0.4111 - acc: 0.8499 - val_loss: 1.5249 - val_acc: 0.6647\n",
      "Epoch 65/100\n",
      "27184/27184 [==============================] - 113s - loss: 0.4207 - acc: 0.8462 - val_loss: 1.5807 - val_acc: 0.6593\n",
      "Epoch 66/100\n",
      "27184/27184 [==============================] - 113s - loss: 0.4140 - acc: 0.8491 - val_loss: 1.5762 - val_acc: 0.6437\n",
      "Epoch 67/100\n",
      "27184/27184 [==============================] - 113s - loss: 0.4072 - acc: 0.8534 - val_loss: 1.6804 - val_acc: 0.6488\n",
      "Epoch 68/100\n",
      "27184/27184 [==============================] - 113s - loss: 0.4049 - acc: 0.8550 - val_loss: 1.7061 - val_acc: 0.6440\n",
      "Epoch 69/100\n",
      "27184/27184 [==============================] - 113s - loss: 0.4018 - acc: 0.8537 - val_loss: 1.6342 - val_acc: 0.6631\n",
      "Epoch 70/100\n",
      "27184/27184 [==============================] - 113s - loss: 0.4111 - acc: 0.8533 - val_loss: 1.6928 - val_acc: 0.6536\n",
      "Epoch 71/100\n",
      "27184/27184 [==============================] - 113s - loss: 0.3918 - acc: 0.8598 - val_loss: 1.6411 - val_acc: 0.6548\n",
      "Epoch 72/100\n",
      "27184/27184 [==============================] - 113s - loss: 0.4015 - acc: 0.8539 - val_loss: 1.5055 - val_acc: 0.6659\n",
      "Epoch 73/100\n",
      "27184/27184 [==============================] - 113s - loss: 0.3873 - acc: 0.8614 - val_loss: 1.7072 - val_acc: 0.6504\n",
      "Epoch 74/100\n",
      "27184/27184 [==============================] - 114s - loss: 0.3849 - acc: 0.8617 - val_loss: 1.7815 - val_acc: 0.6599\n",
      "Epoch 75/100\n",
      "27184/27184 [==============================] - 114s - loss: 0.3895 - acc: 0.8603 - val_loss: 1.6600 - val_acc: 0.6532\n",
      "Epoch 76/100\n",
      "27184/27184 [==============================] - 114s - loss: 0.3816 - acc: 0.8609 - val_loss: 1.7274 - val_acc: 0.6428\n",
      "Epoch 77/100\n",
      "27184/27184 [==============================] - 113s - loss: 0.3788 - acc: 0.8646 - val_loss: 1.5188 - val_acc: 0.6739\n",
      "Epoch 78/100\n",
      "27184/27184 [==============================] - 113s - loss: 0.3636 - acc: 0.8682 - val_loss: 1.7395 - val_acc: 0.6497\n",
      "Epoch 79/100\n",
      "27184/27184 [==============================] - 113s - loss: 0.3844 - acc: 0.8600 - val_loss: 1.7325 - val_acc: 0.6574\n",
      "Epoch 80/100\n",
      "27184/27184 [==============================] - 113s - loss: 0.3625 - acc: 0.8680 - val_loss: 1.7116 - val_acc: 0.6532\n",
      "Epoch 81/100\n",
      "27184/27184 [==============================] - 113s - loss: 0.3575 - acc: 0.8713 - val_loss: 1.7487 - val_acc: 0.6618\n",
      "Epoch 82/100\n",
      "27184/27184 [==============================] - 113s - loss: 0.3662 - acc: 0.8682 - val_loss: 1.6473 - val_acc: 0.6624\n",
      "Epoch 83/100\n",
      "27184/27184 [==============================] - 113s - loss: 0.3664 - acc: 0.8681 - val_loss: 1.6809 - val_acc: 0.6580\n",
      "Epoch 84/100\n",
      "27184/27184 [==============================] - 113s - loss: 0.3585 - acc: 0.8692 - val_loss: 1.6420 - val_acc: 0.6704\n",
      "Epoch 85/100\n",
      "27184/27184 [==============================] - 113s - loss: 0.3585 - acc: 0.8724 - val_loss: 1.8335 - val_acc: 0.6621\n",
      "Epoch 86/100\n",
      "27184/27184 [==============================] - 113s - loss: 0.3499 - acc: 0.8737 - val_loss: 1.8004 - val_acc: 0.6602\n",
      "Epoch 87/100\n",
      "27184/27184 [==============================] - 113s - loss: 0.3514 - acc: 0.8747 - val_loss: 1.7809 - val_acc: 0.6628\n",
      "Epoch 88/100\n",
      "27184/27184 [==============================] - 113s - loss: 0.3490 - acc: 0.8749 - val_loss: 1.8196 - val_acc: 0.6561\n",
      "Epoch 89/100\n",
      "27184/27184 [==============================] - 113s - loss: 0.3519 - acc: 0.8736 - val_loss: 1.7051 - val_acc: 0.6605\n",
      "Epoch 90/100\n",
      "27184/27184 [==============================] - 113s - loss: 0.3451 - acc: 0.8750 - val_loss: 1.8353 - val_acc: 0.6491\n",
      "Epoch 91/100\n",
      "27184/27184 [==============================] - 113s - loss: 0.3531 - acc: 0.8750 - val_loss: 1.7744 - val_acc: 0.6605\n",
      "Epoch 92/100\n",
      "27184/27184 [==============================] - 113s - loss: 0.3389 - acc: 0.8790 - val_loss: 1.8126 - val_acc: 0.6555\n",
      "Epoch 93/100\n",
      "27184/27184 [==============================] - 113s - loss: 0.3391 - acc: 0.8770 - val_loss: 1.6651 - val_acc: 0.6586\n",
      "Epoch 94/100\n",
      "27184/27184 [==============================] - 114s - loss: 0.3348 - acc: 0.8796 - val_loss: 1.7102 - val_acc: 0.6691\n",
      "Epoch 95/100\n",
      "27184/27184 [==============================] - 113s - loss: 0.3359 - acc: 0.8795 - val_loss: 1.8312 - val_acc: 0.6516\n",
      "Epoch 96/100\n",
      "27184/27184 [==============================] - 113s - loss: 0.3408 - acc: 0.8773 - val_loss: 1.8151 - val_acc: 0.6494\n",
      "Epoch 97/100\n",
      "27184/27184 [==============================] - 113s - loss: 0.3384 - acc: 0.8778 - val_loss: 1.8051 - val_acc: 0.6456\n",
      "Epoch 98/100\n",
      "27184/27184 [==============================] - 114s - loss: 0.3235 - acc: 0.8844 - val_loss: 1.9573 - val_acc: 0.6529\n",
      "Epoch 99/100\n",
      "27184/27184 [==============================] - 114s - loss: 0.3189 - acc: 0.8839 - val_loss: 1.8168 - val_acc: 0.6634\n",
      "Epoch 100/100\n",
      "27184/27184 [==============================] - 113s - loss: 0.3294 - acc: 0.8821 - val_loss: 1.8495 - val_acc: 0.6456\n"
     ]
    },
    {
     "data": {
      "text/plain": [
       "<keras.callbacks.History at 0x7f870fc03390>"
      ]
     },
     "execution_count": 12,
     "metadata": {},
     "output_type": "execute_result"
    }
   ],
   "source": [
    "model.fit_generator(train_batches, samples_per_epoch=train_batches.nb_sample,\n",
    "                    nb_epoch=100,\n",
    "                    validation_data=val_batches,\n",
    "                    nb_val_samples=val_batches.nb_sample,\n",
    "                    verbose=True)"
   ]
  },
  {
   "cell_type": "code",
   "execution_count": null,
   "metadata": {
    "collapsed": false
   },
   "outputs": [],
   "source": [
    "model.optimizer.lr=0.1\n",
    "model.fit_generator(train_batches, samples_per_epoch=train_batches.nb_sample,\n",
    "                    nb_epoch=1,\n",
    "                    validation_data=val_batches, nb_val_samples=val_batches.nb_sample,\n",
    "                    verbose=True)"
   ]
  },
  {
   "cell_type": "code",
   "execution_count": null,
   "metadata": {
    "collapsed": false
   },
   "outputs": [],
   "source": [
    "model.optimizer.lr=0.01\n",
    "model.fit_generator(train_batches, samples_per_epoch=train_batches.nb_sample,\n",
    "                    nb_epoch=4,\n",
    "                    validation_data=val_batches, nb_val_samples=val_batches.nb_sample,\n",
    "                    verbose=True)"
   ]
  },
  {
   "cell_type": "markdown",
   "metadata": {},
   "source": [
    "## Data Augmentation"
   ]
  },
  {
   "cell_type": "code",
   "execution_count": null,
   "metadata": {
    "collapsed": true
   },
   "outputs": [],
   "source": [
    "# image_generator = image.ImageDataGenerator(\n",
    "#                 rotation_range=360,\n",
    "#                 width_shift_range=0.02,\n",
    "#                 height_shift_range=0.02,\n",
    "#                 shear_range=0.05,\n",
    "#                 zoom_range=0.05)"
   ]
  },
  {
   "cell_type": "markdown",
   "metadata": {
    "heading_collapsed": true
   },
   "source": [
    "## Batch Normalization "
   ]
  },
  {
   "cell_type": "markdown",
   "metadata": {
    "heading_collapsed": true
   },
   "source": [
    "## Dropout "
   ]
  },
  {
   "cell_type": "markdown",
   "metadata": {
    "heading_collapsed": true
   },
   "source": [
    "## Ensembling "
   ]
  }
 ],
 "metadata": {
  "anaconda-cloud": {},
  "kernelspec": {
   "display_name": "Python [conda env:deepLearning]",
   "language": "python",
   "name": "conda-env-deepLearning-py"
  },
  "language_info": {
   "codemirror_mode": {
    "name": "ipython",
    "version": 3
   },
   "file_extension": ".py",
   "mimetype": "text/x-python",
   "name": "python",
   "nbconvert_exporter": "python",
   "pygments_lexer": "ipython3",
   "version": "3.5.2"
  }
 },
 "nbformat": 4,
 "nbformat_minor": 1
}
